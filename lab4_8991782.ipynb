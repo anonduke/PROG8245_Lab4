{
 "cells": [
  {
   "cell_type": "markdown",
   "metadata": {},
   "source": [
    "# Replicability Check\n",
    "I have checked with another platform.\n",
    "1. Created a virtual environment: `python -m venv env`\n",
    "2. Activated the environment: `source env/bin/activate`\n",
    "3. Installed dependencies: `pip install -r requirements.txt`\n",
    "4. Ran the notebook using Jupyter: `jupyter notebook week5Lab.ipynb`\n"
   ]
  },
  {
   "cell_type": "markdown",
   "metadata": {},
   "source": [
    "# Data Tidying and Cleaning\n",
    "\n",
    "Data tidying and cleaning are critical steps in data engineering to make datasets readable, complete, and analysis-ready. This notebook demonstrates:\n",
    "\n",
    "- **Tidying**: Reshaping datasets using `pandas` functions like `melt` and `pivot_table` to ensure each variable is a column, each observation is a row, and each observational unit forms a table.\n",
    "- **Cleaning**: Handling missing values, removing outliers, and correcting inconsistencies to prepare data for visualization or modeling.\n",
    "- **Outlier Detection**: Identifying and managing outliers using visualization, Z-Score, and Inter-Quartile Range (IQR) methods.\n",
    "\n",
    "We use four datasets:\n",
    "1. **PEW Research**: Income distributions by religion.\n",
    "2. **Billboard**: Weekly song rankings.\n",
    "3. **Cars**: Car attributes for cleaning.\n",
    "4. **Diabetes**: Health metrics for outlier detection."
   ]
  },
  {
   "cell_type": "markdown",
   "metadata": {},
   "source": [
    "## PEW Research Dataset\n",
    "\n",
    "This dataset from PEW Research shows income distributions across religious groups in the US. A tidy dataset satisfies:\n",
    "\n",
    "1. Each variable forms a column.\n",
    "2. Each observation forms a row.\n",
    "3. Each observational unit forms a table.\n",
    "\n",
    "Our goal is to reshape the dataset so that religion, income range, and count are distinct columns.\n",
    "\n",
    "Importing libraries:-"
   ]
  },
  {
   "cell_type": "code",
   "execution_count": 40,
   "metadata": {},
   "outputs": [],
   "source": [
    "import pandas as pd\n",
    "import numpy as np\n",
    "from tabulate import tabulate\n",
    "import matplotlib.pyplot as plt\n",
    "from sklearn.impute import SimpleImputer\n",
    "from rich.console import Console\n",
    "from rich.table import Table"
   ]
  },
  {
   "cell_type": "markdown",
   "metadata": {},
   "source": [
    "### Step 1: Load the Dataset\n",
    "\n",
    "We start by loading the dataset into a pandas DataFrame."
   ]
  },
  {
   "cell_type": "code",
   "execution_count": 41,
   "metadata": {},
   "outputs": [
    {
     "data": {
      "application/vnd.microsoft.datawrangler.viewer.v0+json": {
       "columns": [
        {
         "name": "index",
         "rawType": "int64",
         "type": "integer"
        },
        {
         "name": "religion",
         "rawType": "object",
         "type": "string"
        },
        {
         "name": " <$10k",
         "rawType": "int64",
         "type": "integer"
        },
        {
         "name": " $10-20k",
         "rawType": "int64",
         "type": "integer"
        },
        {
         "name": "$20-30k",
         "rawType": "int64",
         "type": "integer"
        },
        {
         "name": "$30-40k",
         "rawType": "int64",
         "type": "integer"
        },
        {
         "name": " $40-50k",
         "rawType": "int64",
         "type": "integer"
        },
        {
         "name": "$50-75k",
         "rawType": "int64",
         "type": "integer"
        }
       ],
       "ref": "d26c5b1c-2d8b-40a7-bbba-6956786f6451",
       "rows": [
        [
         "0",
         "Agnostic",
         "27",
         "34",
         "60",
         "81",
         "76",
         "137"
        ],
        [
         "1",
         "Atheist",
         "12",
         "27",
         "37",
         "52",
         "35",
         "70"
        ],
        [
         "2",
         "Buddhist",
         "27",
         "21",
         "30",
         "34",
         "33",
         "58"
        ],
        [
         "3",
         "Catholic",
         "418",
         "617",
         "732",
         "670",
         "638",
         "1116"
        ],
        [
         "4",
         "Dont know/refused",
         "15",
         "14",
         "15",
         "11",
         "10",
         "35"
        ]
       ],
       "shape": {
        "columns": 7,
        "rows": 5
       }
      },
      "text/html": [
       "<div>\n",
       "<style scoped>\n",
       "    .dataframe tbody tr th:only-of-type {\n",
       "        vertical-align: middle;\n",
       "    }\n",
       "\n",
       "    .dataframe tbody tr th {\n",
       "        vertical-align: top;\n",
       "    }\n",
       "\n",
       "    .dataframe thead th {\n",
       "        text-align: right;\n",
       "    }\n",
       "</style>\n",
       "<table border=\"1\" class=\"dataframe\">\n",
       "  <thead>\n",
       "    <tr style=\"text-align: right;\">\n",
       "      <th></th>\n",
       "      <th>religion</th>\n",
       "      <th>&lt;$10k</th>\n",
       "      <th>$10-20k</th>\n",
       "      <th>$20-30k</th>\n",
       "      <th>$30-40k</th>\n",
       "      <th>$40-50k</th>\n",
       "      <th>$50-75k</th>\n",
       "    </tr>\n",
       "  </thead>\n",
       "  <tbody>\n",
       "    <tr>\n",
       "      <th>0</th>\n",
       "      <td>Agnostic</td>\n",
       "      <td>27</td>\n",
       "      <td>34</td>\n",
       "      <td>60</td>\n",
       "      <td>81</td>\n",
       "      <td>76</td>\n",
       "      <td>137</td>\n",
       "    </tr>\n",
       "    <tr>\n",
       "      <th>1</th>\n",
       "      <td>Atheist</td>\n",
       "      <td>12</td>\n",
       "      <td>27</td>\n",
       "      <td>37</td>\n",
       "      <td>52</td>\n",
       "      <td>35</td>\n",
       "      <td>70</td>\n",
       "    </tr>\n",
       "    <tr>\n",
       "      <th>2</th>\n",
       "      <td>Buddhist</td>\n",
       "      <td>27</td>\n",
       "      <td>21</td>\n",
       "      <td>30</td>\n",
       "      <td>34</td>\n",
       "      <td>33</td>\n",
       "      <td>58</td>\n",
       "    </tr>\n",
       "    <tr>\n",
       "      <th>3</th>\n",
       "      <td>Catholic</td>\n",
       "      <td>418</td>\n",
       "      <td>617</td>\n",
       "      <td>732</td>\n",
       "      <td>670</td>\n",
       "      <td>638</td>\n",
       "      <td>1116</td>\n",
       "    </tr>\n",
       "    <tr>\n",
       "      <th>4</th>\n",
       "      <td>Dont know/refused</td>\n",
       "      <td>15</td>\n",
       "      <td>14</td>\n",
       "      <td>15</td>\n",
       "      <td>11</td>\n",
       "      <td>10</td>\n",
       "      <td>35</td>\n",
       "    </tr>\n",
       "  </tbody>\n",
       "</table>\n",
       "</div>"
      ],
      "text/plain": [
       "            religion   <$10k   $10-20k  $20-30k  $30-40k   $40-50k  $50-75k\n",
       "0           Agnostic      27        34       60       81        76      137\n",
       "1            Atheist      12        27       37       52        35       70\n",
       "2           Buddhist      27        21       30       34        33       58\n",
       "3           Catholic     418       617      732      670       638     1116\n",
       "4  Dont know/refused      15        14       15       11        10       35"
      ]
     },
     "execution_count": 41,
     "metadata": {},
     "output_type": "execute_result"
    }
   ],
   "source": [
    "\n",
    "# Load the PEW dataset\n",
    "df_pew = pd.read_csv('./CSVs/pew-raw.csv')\n",
    "\n",
    "# Display the first few rows\n",
    "df_pew.head(5)"
   ]
  },
  {
   "cell_type": "markdown",
   "metadata": {},
   "source": [
    "### Step 2: Observe the Dataset\n",
    "\n",
    "The dataset has income ranges as column headers, which represent values, not variables. This violates tidy data principles. We need to reshape it so that income ranges become a single column."
   ]
  },
  {
   "cell_type": "code",
   "execution_count": 42,
   "metadata": {},
   "outputs": [
    {
     "data": {
      "application/vnd.microsoft.datawrangler.viewer.v0+json": {
       "columns": [
        {
         "name": "index",
         "rawType": "int64",
         "type": "integer"
        },
        {
         "name": "religion",
         "rawType": "object",
         "type": "string"
        },
        {
         "name": " <$10k",
         "rawType": "int64",
         "type": "integer"
        },
        {
         "name": " $10-20k",
         "rawType": "int64",
         "type": "integer"
        },
        {
         "name": "$20-30k",
         "rawType": "int64",
         "type": "integer"
        },
        {
         "name": "$30-40k",
         "rawType": "int64",
         "type": "integer"
        }
       ],
       "ref": "03c51534-a86d-4426-8695-279a26793ba8",
       "rows": [
        [
         "0",
         "Agnostic",
         "27",
         "34",
         "60",
         "81"
        ],
        [
         "1",
         "Atheist",
         "12",
         "27",
         "37",
         "52"
        ],
        [
         "2",
         "Buddhist",
         "27",
         "21",
         "30",
         "34"
        ],
        [
         "3",
         "Catholic",
         "418",
         "617",
         "732",
         "670"
        ],
        [
         "4",
         "Dont know/refused",
         "15",
         "14",
         "15",
         "11"
        ]
       ],
       "shape": {
        "columns": 5,
        "rows": 5
       }
      },
      "text/html": [
       "<div>\n",
       "<style scoped>\n",
       "    .dataframe tbody tr th:only-of-type {\n",
       "        vertical-align: middle;\n",
       "    }\n",
       "\n",
       "    .dataframe tbody tr th {\n",
       "        vertical-align: top;\n",
       "    }\n",
       "\n",
       "    .dataframe thead th {\n",
       "        text-align: right;\n",
       "    }\n",
       "</style>\n",
       "<table border=\"1\" class=\"dataframe\">\n",
       "  <thead>\n",
       "    <tr style=\"text-align: right;\">\n",
       "      <th></th>\n",
       "      <th>religion</th>\n",
       "      <th>&lt;$10k</th>\n",
       "      <th>$10-20k</th>\n",
       "      <th>$20-30k</th>\n",
       "      <th>$30-40k</th>\n",
       "    </tr>\n",
       "  </thead>\n",
       "  <tbody>\n",
       "    <tr>\n",
       "      <th>0</th>\n",
       "      <td>Agnostic</td>\n",
       "      <td>27</td>\n",
       "      <td>34</td>\n",
       "      <td>60</td>\n",
       "      <td>81</td>\n",
       "    </tr>\n",
       "    <tr>\n",
       "      <th>1</th>\n",
       "      <td>Atheist</td>\n",
       "      <td>12</td>\n",
       "      <td>27</td>\n",
       "      <td>37</td>\n",
       "      <td>52</td>\n",
       "    </tr>\n",
       "    <tr>\n",
       "      <th>2</th>\n",
       "      <td>Buddhist</td>\n",
       "      <td>27</td>\n",
       "      <td>21</td>\n",
       "      <td>30</td>\n",
       "      <td>34</td>\n",
       "    </tr>\n",
       "    <tr>\n",
       "      <th>3</th>\n",
       "      <td>Catholic</td>\n",
       "      <td>418</td>\n",
       "      <td>617</td>\n",
       "      <td>732</td>\n",
       "      <td>670</td>\n",
       "    </tr>\n",
       "    <tr>\n",
       "      <th>4</th>\n",
       "      <td>Dont know/refused</td>\n",
       "      <td>15</td>\n",
       "      <td>14</td>\n",
       "      <td>15</td>\n",
       "      <td>11</td>\n",
       "    </tr>\n",
       "  </tbody>\n",
       "</table>\n",
       "</div>"
      ],
      "text/plain": [
       "            religion   <$10k   $10-20k  $20-30k  $30-40k\n",
       "0           Agnostic      27        34       60       81\n",
       "1            Atheist      12        27       37       52\n",
       "2           Buddhist      27        21       30       34\n",
       "3           Catholic     418       617      732      670\n",
       "4  Dont know/refused      15        14       15       11"
      ]
     },
     "execution_count": 42,
     "metadata": {},
     "output_type": "execute_result"
    }
   ],
   "source": [
    "# Use iloc to view a subset of the data\n",
    "df_pew.iloc[:5, :5]"
   ]
  },
  {
   "cell_type": "markdown",
   "metadata": {},
   "source": [
    "### Step 3: Tidy with `melt`\n",
    "\n",
    "We use `pd.melt` to reshape the dataset, keeping `religion` as the identifier and transforming income range columns into a single `income_range` column with corresponding `count` values."
   ]
  },
  {
   "cell_type": "code",
   "execution_count": 43,
   "metadata": {},
   "outputs": [
    {
     "data": {
      "application/vnd.microsoft.datawrangler.viewer.v0+json": {
       "columns": [
        {
         "name": "index",
         "rawType": "int64",
         "type": "integer"
        },
        {
         "name": "religion",
         "rawType": "object",
         "type": "string"
        },
        {
         "name": "income_range",
         "rawType": "object",
         "type": "string"
        },
        {
         "name": "count",
         "rawType": "int64",
         "type": "integer"
        }
       ],
       "ref": "5283fb39-ce47-47ba-bd08-d2f37fc6df80",
       "rows": [
        [
         "0",
         "Agnostic",
         " <$10k",
         "27"
        ],
        [
         "1",
         "Atheist",
         " <$10k",
         "12"
        ],
        [
         "2",
         "Buddhist",
         " <$10k",
         "27"
        ],
        [
         "3",
         "Catholic",
         " <$10k",
         "418"
        ],
        [
         "4",
         "Dont know/refused",
         " <$10k",
         "15"
        ]
       ],
       "shape": {
        "columns": 3,
        "rows": 5
       }
      },
      "text/html": [
       "<div>\n",
       "<style scoped>\n",
       "    .dataframe tbody tr th:only-of-type {\n",
       "        vertical-align: middle;\n",
       "    }\n",
       "\n",
       "    .dataframe tbody tr th {\n",
       "        vertical-align: top;\n",
       "    }\n",
       "\n",
       "    .dataframe thead th {\n",
       "        text-align: right;\n",
       "    }\n",
       "</style>\n",
       "<table border=\"1\" class=\"dataframe\">\n",
       "  <thead>\n",
       "    <tr style=\"text-align: right;\">\n",
       "      <th></th>\n",
       "      <th>religion</th>\n",
       "      <th>income_range</th>\n",
       "      <th>count</th>\n",
       "    </tr>\n",
       "  </thead>\n",
       "  <tbody>\n",
       "    <tr>\n",
       "      <th>0</th>\n",
       "      <td>Agnostic</td>\n",
       "      <td>&lt;$10k</td>\n",
       "      <td>27</td>\n",
       "    </tr>\n",
       "    <tr>\n",
       "      <th>1</th>\n",
       "      <td>Atheist</td>\n",
       "      <td>&lt;$10k</td>\n",
       "      <td>12</td>\n",
       "    </tr>\n",
       "    <tr>\n",
       "      <th>2</th>\n",
       "      <td>Buddhist</td>\n",
       "      <td>&lt;$10k</td>\n",
       "      <td>27</td>\n",
       "    </tr>\n",
       "    <tr>\n",
       "      <th>3</th>\n",
       "      <td>Catholic</td>\n",
       "      <td>&lt;$10k</td>\n",
       "      <td>418</td>\n",
       "    </tr>\n",
       "    <tr>\n",
       "      <th>4</th>\n",
       "      <td>Dont know/refused</td>\n",
       "      <td>&lt;$10k</td>\n",
       "      <td>15</td>\n",
       "    </tr>\n",
       "  </tbody>\n",
       "</table>\n",
       "</div>"
      ],
      "text/plain": [
       "            religion income_range  count\n",
       "0           Agnostic        <$10k     27\n",
       "1            Atheist        <$10k     12\n",
       "2           Buddhist        <$10k     27\n",
       "3           Catholic        <$10k    418\n",
       "4  Dont know/refused        <$10k     15"
      ]
     },
     "execution_count": 43,
     "metadata": {},
     "output_type": "execute_result"
    }
   ],
   "source": [
    "# Melt the dataset\n",
    "df_pew_tidy = pd.melt(\n",
    "    df_pew,\n",
    "    id_vars=['religion'],\n",
    "    var_name='income_range',\n",
    "    value_name='count'\n",
    ")\n",
    "\n",
    "# Display the tidied dataset\n",
    "df_pew_tidy.head()"
   ]
  },
  {
   "cell_type": "markdown",
   "metadata": {},
   "source": [
    "Doing some data transformation for meaning full insights."
   ]
  },
  {
   "cell_type": "code",
   "execution_count": 44,
   "metadata": {},
   "outputs": [
    {
     "data": {
      "application/vnd.microsoft.datawrangler.viewer.v0+json": {
       "columns": [
        {
         "name": "index",
         "rawType": "int64",
         "type": "integer"
        },
        {
         "name": "religion",
         "rawType": "object",
         "type": "string"
        },
        {
         "name": "income_range",
         "rawType": "object",
         "type": "string"
        },
        {
         "name": "count",
         "rawType": "int64",
         "type": "integer"
        }
       ],
       "ref": "bf38beb3-2846-4733-adb6-2148b0b4a80e",
       "rows": [
        [
         "0",
         "Agnostic",
         " 0-10",
         "27"
        ],
        [
         "1",
         "Atheist",
         " 0-10",
         "12"
        ],
        [
         "2",
         "Buddhist",
         " 0-10",
         "27"
        ],
        [
         "3",
         "Catholic",
         " 0-10",
         "418"
        ],
        [
         "4",
         "Dont know/refused",
         " 0-10",
         "15"
        ]
       ],
       "shape": {
        "columns": 3,
        "rows": 5
       }
      },
      "text/html": [
       "<div>\n",
       "<style scoped>\n",
       "    .dataframe tbody tr th:only-of-type {\n",
       "        vertical-align: middle;\n",
       "    }\n",
       "\n",
       "    .dataframe tbody tr th {\n",
       "        vertical-align: top;\n",
       "    }\n",
       "\n",
       "    .dataframe thead th {\n",
       "        text-align: right;\n",
       "    }\n",
       "</style>\n",
       "<table border=\"1\" class=\"dataframe\">\n",
       "  <thead>\n",
       "    <tr style=\"text-align: right;\">\n",
       "      <th></th>\n",
       "      <th>religion</th>\n",
       "      <th>income_range</th>\n",
       "      <th>count</th>\n",
       "    </tr>\n",
       "  </thead>\n",
       "  <tbody>\n",
       "    <tr>\n",
       "      <th>0</th>\n",
       "      <td>Agnostic</td>\n",
       "      <td>0-10</td>\n",
       "      <td>27</td>\n",
       "    </tr>\n",
       "    <tr>\n",
       "      <th>1</th>\n",
       "      <td>Atheist</td>\n",
       "      <td>0-10</td>\n",
       "      <td>12</td>\n",
       "    </tr>\n",
       "    <tr>\n",
       "      <th>2</th>\n",
       "      <td>Buddhist</td>\n",
       "      <td>0-10</td>\n",
       "      <td>27</td>\n",
       "    </tr>\n",
       "    <tr>\n",
       "      <th>3</th>\n",
       "      <td>Catholic</td>\n",
       "      <td>0-10</td>\n",
       "      <td>418</td>\n",
       "    </tr>\n",
       "    <tr>\n",
       "      <th>4</th>\n",
       "      <td>Dont know/refused</td>\n",
       "      <td>0-10</td>\n",
       "      <td>15</td>\n",
       "    </tr>\n",
       "  </tbody>\n",
       "</table>\n",
       "</div>"
      ],
      "text/plain": [
       "            religion income_range  count\n",
       "0           Agnostic         0-10     27\n",
       "1            Atheist         0-10     12\n",
       "2           Buddhist         0-10     27\n",
       "3           Catholic         0-10    418\n",
       "4  Dont know/refused         0-10     15"
      ]
     },
     "execution_count": 44,
     "metadata": {},
     "output_type": "execute_result"
    }
   ],
   "source": [
    "df_pew_tidy['income_range'] = df_pew_tidy['income_range'].str.replace('<$10k','0-10')\n",
    "df_pew_tidy['income_range'] = df_pew_tidy['income_range'].str.replace('$','')\n",
    "df_pew_tidy['income_range'] = df_pew_tidy['income_range'].str.replace('k', '', regex=True)\n",
    "df_pew_tidy['income_range'] = df_pew_tidy['income_range'].str.replace('', '', regex=True)\n",
    "\n",
    "df_pew_tidy.head()"
   ]
  },
  {
   "cell_type": "markdown",
   "metadata": {},
   "source": [
    "## Billboard Dataset\n",
    "\n",
    "This dataset tracks Billboard top hit songs, including their weekly rankings over time. The current structure has weeks as separate columns, which is not tidy. We'll:\n",
    "\n",
    "1. Use `melt` to reshape the data so each row represents a song's rank in a specific week.\n",
    "2. Clean the `Week` column to extract only the week number.\n",
    "3. Calculate the date of each ranking based on the entry date and week number.\n",
    "4. Finalize the dataset by keeping essential columns and handling missing values.\n",
    "\n",
    "### Step 1: Load the Dataset\n",
    "\n",
    "The dataset contains non-ASCII characters, so we use `unicode_escape` encoding to read it correctly."
   ]
  },
  {
   "cell_type": "code",
   "execution_count": 45,
   "metadata": {},
   "outputs": [
    {
     "data": {
      "application/vnd.microsoft.datawrangler.viewer.v0+json": {
       "columns": [
        {
         "name": "index",
         "rawType": "int64",
         "type": "integer"
        },
        {
         "name": "year",
         "rawType": "int64",
         "type": "integer"
        },
        {
         "name": "artist.inverted",
         "rawType": "object",
         "type": "string"
        },
        {
         "name": "track",
         "rawType": "object",
         "type": "string"
        },
        {
         "name": "time",
         "rawType": "object",
         "type": "string"
        },
        {
         "name": "genre",
         "rawType": "object",
         "type": "string"
        },
        {
         "name": "date.entered",
         "rawType": "object",
         "type": "string"
        },
        {
         "name": "date.peaked",
         "rawType": "object",
         "type": "string"
        },
        {
         "name": "x1st.week",
         "rawType": "int64",
         "type": "integer"
        },
        {
         "name": "x2nd.week",
         "rawType": "float64",
         "type": "float"
        },
        {
         "name": "x3rd.week",
         "rawType": "float64",
         "type": "float"
        },
        {
         "name": "x4th.week",
         "rawType": "float64",
         "type": "float"
        },
        {
         "name": "x5th.week",
         "rawType": "float64",
         "type": "float"
        },
        {
         "name": "x6th.week",
         "rawType": "float64",
         "type": "float"
        },
        {
         "name": "x7th.week",
         "rawType": "float64",
         "type": "float"
        },
        {
         "name": "x8th.week",
         "rawType": "float64",
         "type": "float"
        },
        {
         "name": "x9th.week",
         "rawType": "float64",
         "type": "float"
        },
        {
         "name": "x10th.week",
         "rawType": "float64",
         "type": "float"
        },
        {
         "name": "x11th.week",
         "rawType": "float64",
         "type": "float"
        },
        {
         "name": "x12th.week",
         "rawType": "float64",
         "type": "float"
        },
        {
         "name": "x13th.week",
         "rawType": "float64",
         "type": "float"
        },
        {
         "name": "x14th.week",
         "rawType": "float64",
         "type": "float"
        },
        {
         "name": "x15th.week",
         "rawType": "float64",
         "type": "float"
        },
        {
         "name": "x16th.week",
         "rawType": "float64",
         "type": "float"
        },
        {
         "name": "x17th.week",
         "rawType": "float64",
         "type": "float"
        },
        {
         "name": "x18th.week",
         "rawType": "float64",
         "type": "float"
        },
        {
         "name": "x19th.week",
         "rawType": "float64",
         "type": "float"
        },
        {
         "name": "x20th.week",
         "rawType": "float64",
         "type": "float"
        },
        {
         "name": "x21st.week",
         "rawType": "float64",
         "type": "float"
        },
        {
         "name": "x22nd.week",
         "rawType": "float64",
         "type": "float"
        },
        {
         "name": "x23rd.week",
         "rawType": "float64",
         "type": "float"
        },
        {
         "name": "x24th.week",
         "rawType": "float64",
         "type": "float"
        },
        {
         "name": "x25th.week",
         "rawType": "float64",
         "type": "float"
        },
        {
         "name": "x26th.week",
         "rawType": "float64",
         "type": "float"
        },
        {
         "name": "x27th.week",
         "rawType": "float64",
         "type": "float"
        },
        {
         "name": "x28th.week",
         "rawType": "float64",
         "type": "float"
        },
        {
         "name": "x29th.week",
         "rawType": "float64",
         "type": "float"
        },
        {
         "name": "x30th.week",
         "rawType": "float64",
         "type": "float"
        },
        {
         "name": "x31st.week",
         "rawType": "float64",
         "type": "float"
        },
        {
         "name": "x32nd.week",
         "rawType": "float64",
         "type": "float"
        },
        {
         "name": "x33rd.week",
         "rawType": "float64",
         "type": "float"
        },
        {
         "name": "x34th.week",
         "rawType": "float64",
         "type": "float"
        },
        {
         "name": "x35th.week",
         "rawType": "float64",
         "type": "float"
        },
        {
         "name": "x36th.week",
         "rawType": "float64",
         "type": "float"
        },
        {
         "name": "x37th.week",
         "rawType": "float64",
         "type": "float"
        },
        {
         "name": "x38th.week",
         "rawType": "float64",
         "type": "float"
        },
        {
         "name": "x39th.week",
         "rawType": "float64",
         "type": "float"
        },
        {
         "name": "x40th.week",
         "rawType": "float64",
         "type": "float"
        },
        {
         "name": "x41st.week",
         "rawType": "float64",
         "type": "float"
        },
        {
         "name": "x42nd.week",
         "rawType": "float64",
         "type": "float"
        },
        {
         "name": "x43rd.week",
         "rawType": "float64",
         "type": "float"
        },
        {
         "name": "x44th.week",
         "rawType": "float64",
         "type": "float"
        },
        {
         "name": "x45th.week",
         "rawType": "float64",
         "type": "float"
        },
        {
         "name": "x46th.week",
         "rawType": "float64",
         "type": "float"
        },
        {
         "name": "x47th.week",
         "rawType": "float64",
         "type": "float"
        },
        {
         "name": "x48th.week",
         "rawType": "float64",
         "type": "float"
        },
        {
         "name": "x49th.week",
         "rawType": "float64",
         "type": "float"
        },
        {
         "name": "x50th.week",
         "rawType": "float64",
         "type": "float"
        },
        {
         "name": "x51st.week",
         "rawType": "float64",
         "type": "float"
        },
        {
         "name": "x52nd.week",
         "rawType": "float64",
         "type": "float"
        },
        {
         "name": "x53rd.week",
         "rawType": "float64",
         "type": "float"
        },
        {
         "name": "x54th.week",
         "rawType": "float64",
         "type": "float"
        },
        {
         "name": "x55th.week",
         "rawType": "float64",
         "type": "float"
        },
        {
         "name": "x56th.week",
         "rawType": "float64",
         "type": "float"
        },
        {
         "name": "x57th.week",
         "rawType": "float64",
         "type": "float"
        },
        {
         "name": "x58th.week",
         "rawType": "float64",
         "type": "float"
        },
        {
         "name": "x59th.week",
         "rawType": "float64",
         "type": "float"
        },
        {
         "name": "x60th.week",
         "rawType": "float64",
         "type": "float"
        },
        {
         "name": "x61st.week",
         "rawType": "float64",
         "type": "float"
        },
        {
         "name": "x62nd.week",
         "rawType": "float64",
         "type": "float"
        },
        {
         "name": "x63rd.week",
         "rawType": "float64",
         "type": "float"
        },
        {
         "name": "x64th.week",
         "rawType": "float64",
         "type": "float"
        },
        {
         "name": "x65th.week",
         "rawType": "float64",
         "type": "float"
        },
        {
         "name": "x66th.week",
         "rawType": "float64",
         "type": "float"
        },
        {
         "name": "x67th.week",
         "rawType": "float64",
         "type": "float"
        },
        {
         "name": "x68th.week",
         "rawType": "float64",
         "type": "float"
        },
        {
         "name": "x69th.week",
         "rawType": "float64",
         "type": "float"
        },
        {
         "name": "x70th.week",
         "rawType": "float64",
         "type": "float"
        },
        {
         "name": "x71st.week",
         "rawType": "float64",
         "type": "float"
        },
        {
         "name": "x72nd.week",
         "rawType": "float64",
         "type": "float"
        },
        {
         "name": "x73rd.week",
         "rawType": "float64",
         "type": "float"
        },
        {
         "name": "x74th.week",
         "rawType": "float64",
         "type": "float"
        },
        {
         "name": "x75th.week",
         "rawType": "float64",
         "type": "float"
        },
        {
         "name": "x76th.week",
         "rawType": "float64",
         "type": "float"
        }
       ],
       "ref": "9470cf82-81e9-45a5-9d4c-aa8f22c78c37",
       "rows": [
        [
         "0",
         "2000",
         "Destiny's Child",
         "Independent Women Part I",
         "3:38",
         "Rock",
         "2000-09-23",
         "2000-11-18",
         "78",
         "63.0",
         "49.0",
         "33.0",
         "23.0",
         "15.0",
         "7.0",
         "5.0",
         "1.0",
         "1.0",
         "1.0",
         "1.0",
         "1.0",
         "1.0",
         "1.0",
         "1.0",
         "1.0",
         "1.0",
         "1.0",
         "2.0",
         "3.0",
         "7.0",
         "10.0",
         "12.0",
         "15.0",
         "22.0",
         "29.0",
         "31.0",
         null,
         null,
         null,
         null,
         null,
         null,
         null,
         null,
         null,
         null,
         null,
         null,
         null,
         null,
         null,
         null,
         null,
         null,
         null,
         null,
         null,
         null,
         null,
         null,
         null,
         null,
         null,
         null,
         null,
         null,
         null,
         null,
         null,
         null,
         null,
         null,
         null,
         null,
         null,
         null,
         null,
         null,
         null,
         null,
         null,
         null,
         null,
         null
        ],
        [
         "1",
         "2000",
         "Santana",
         "Maria, Maria",
         "4:18",
         "Rock",
         "2000-02-12",
         "2000-04-08",
         "15",
         "8.0",
         "6.0",
         "5.0",
         "2.0",
         "3.0",
         "2.0",
         "2.0",
         "1.0",
         "1.0",
         "1.0",
         "1.0",
         "1.0",
         "1.0",
         "1.0",
         "1.0",
         "1.0",
         "1.0",
         "8.0",
         "15.0",
         "19.0",
         "21.0",
         "26.0",
         "36.0",
         "48.0",
         "47.0",
         null,
         null,
         null,
         null,
         null,
         null,
         null,
         null,
         null,
         null,
         null,
         null,
         null,
         null,
         null,
         null,
         null,
         null,
         null,
         null,
         null,
         null,
         null,
         null,
         null,
         null,
         null,
         null,
         null,
         null,
         null,
         null,
         null,
         null,
         null,
         null,
         null,
         null,
         null,
         null,
         null,
         null,
         null,
         null,
         null,
         null,
         null,
         null,
         null,
         null
        ],
        [
         "2",
         "2000",
         "Savage Garden",
         "I Knew I Loved You",
         "4:07",
         "Rock",
         "1999-10-23",
         "2000-01-29",
         "71",
         "48.0",
         "43.0",
         "31.0",
         "20.0",
         "13.0",
         "7.0",
         "6.0",
         "4.0",
         "4.0",
         "4.0",
         "6.0",
         "4.0",
         "2.0",
         "1.0",
         "1.0",
         "1.0",
         "2.0",
         "1.0",
         "2.0",
         "4.0",
         "8.0",
         "8.0",
         "12.0",
         "14.0",
         "17.0",
         "21.0",
         "24.0",
         "30.0",
         "34.0",
         "37.0",
         "46.0",
         "47.0",
         null,
         null,
         null,
         null,
         null,
         null,
         null,
         null,
         null,
         null,
         null,
         null,
         null,
         null,
         null,
         null,
         null,
         null,
         null,
         null,
         null,
         null,
         null,
         null,
         null,
         null,
         null,
         null,
         null,
         null,
         null,
         null,
         null,
         null,
         null,
         null,
         null,
         null,
         null,
         null,
         null,
         null,
         null
        ],
        [
         "3",
         "2000",
         "Madonna",
         "Music",
         "3:45",
         "Rock",
         "2000-08-12",
         "2000-09-16",
         "41",
         "23.0",
         "18.0",
         "14.0",
         "2.0",
         "1.0",
         "1.0",
         "1.0",
         "1.0",
         "2.0",
         "2.0",
         "2.0",
         "2.0",
         "2.0",
         "4.0",
         "8.0",
         "11.0",
         "16.0",
         "20.0",
         "25.0",
         "27.0",
         "27.0",
         "29.0",
         "44.0",
         null,
         null,
         null,
         null,
         null,
         null,
         null,
         null,
         null,
         null,
         null,
         null,
         null,
         null,
         null,
         null,
         null,
         null,
         null,
         null,
         null,
         null,
         null,
         null,
         null,
         null,
         null,
         null,
         null,
         null,
         null,
         null,
         null,
         null,
         null,
         null,
         null,
         null,
         null,
         null,
         null,
         null,
         null,
         null,
         null,
         null,
         null,
         null,
         null,
         null,
         null,
         null
        ],
        [
         "4",
         "2000",
         "Aguilera, Christina",
         "Come On Over Baby (All I Want Is You)",
         "3:38",
         "Rock",
         "2000-08-05",
         "2000-10-14",
         "57",
         "47.0",
         "45.0",
         "29.0",
         "23.0",
         "18.0",
         "11.0",
         "9.0",
         "9.0",
         "11.0",
         "1.0",
         "1.0",
         "1.0",
         "1.0",
         "4.0",
         "8.0",
         "12.0",
         "22.0",
         "23.0",
         "43.0",
         "44.0",
         null,
         null,
         null,
         null,
         null,
         null,
         null,
         null,
         null,
         null,
         null,
         null,
         null,
         null,
         null,
         null,
         null,
         null,
         null,
         null,
         null,
         null,
         null,
         null,
         null,
         null,
         null,
         null,
         null,
         null,
         null,
         null,
         null,
         null,
         null,
         null,
         null,
         null,
         null,
         null,
         null,
         null,
         null,
         null,
         null,
         null,
         null,
         null,
         null,
         null,
         null,
         null,
         null,
         null,
         null
        ]
       ],
       "shape": {
        "columns": 83,
        "rows": 5
       }
      },
      "text/html": [
       "<div>\n",
       "<style scoped>\n",
       "    .dataframe tbody tr th:only-of-type {\n",
       "        vertical-align: middle;\n",
       "    }\n",
       "\n",
       "    .dataframe tbody tr th {\n",
       "        vertical-align: top;\n",
       "    }\n",
       "\n",
       "    .dataframe thead th {\n",
       "        text-align: right;\n",
       "    }\n",
       "</style>\n",
       "<table border=\"1\" class=\"dataframe\">\n",
       "  <thead>\n",
       "    <tr style=\"text-align: right;\">\n",
       "      <th></th>\n",
       "      <th>year</th>\n",
       "      <th>artist.inverted</th>\n",
       "      <th>track</th>\n",
       "      <th>time</th>\n",
       "      <th>genre</th>\n",
       "      <th>date.entered</th>\n",
       "      <th>date.peaked</th>\n",
       "      <th>x1st.week</th>\n",
       "      <th>x2nd.week</th>\n",
       "      <th>x3rd.week</th>\n",
       "      <th>...</th>\n",
       "      <th>x67th.week</th>\n",
       "      <th>x68th.week</th>\n",
       "      <th>x69th.week</th>\n",
       "      <th>x70th.week</th>\n",
       "      <th>x71st.week</th>\n",
       "      <th>x72nd.week</th>\n",
       "      <th>x73rd.week</th>\n",
       "      <th>x74th.week</th>\n",
       "      <th>x75th.week</th>\n",
       "      <th>x76th.week</th>\n",
       "    </tr>\n",
       "  </thead>\n",
       "  <tbody>\n",
       "    <tr>\n",
       "      <th>0</th>\n",
       "      <td>2000</td>\n",
       "      <td>Destiny's Child</td>\n",
       "      <td>Independent Women Part I</td>\n",
       "      <td>3:38</td>\n",
       "      <td>Rock</td>\n",
       "      <td>2000-09-23</td>\n",
       "      <td>2000-11-18</td>\n",
       "      <td>78</td>\n",
       "      <td>63.0</td>\n",
       "      <td>49.0</td>\n",
       "      <td>...</td>\n",
       "      <td>NaN</td>\n",
       "      <td>NaN</td>\n",
       "      <td>NaN</td>\n",
       "      <td>NaN</td>\n",
       "      <td>NaN</td>\n",
       "      <td>NaN</td>\n",
       "      <td>NaN</td>\n",
       "      <td>NaN</td>\n",
       "      <td>NaN</td>\n",
       "      <td>NaN</td>\n",
       "    </tr>\n",
       "    <tr>\n",
       "      <th>1</th>\n",
       "      <td>2000</td>\n",
       "      <td>Santana</td>\n",
       "      <td>Maria, Maria</td>\n",
       "      <td>4:18</td>\n",
       "      <td>Rock</td>\n",
       "      <td>2000-02-12</td>\n",
       "      <td>2000-04-08</td>\n",
       "      <td>15</td>\n",
       "      <td>8.0</td>\n",
       "      <td>6.0</td>\n",
       "      <td>...</td>\n",
       "      <td>NaN</td>\n",
       "      <td>NaN</td>\n",
       "      <td>NaN</td>\n",
       "      <td>NaN</td>\n",
       "      <td>NaN</td>\n",
       "      <td>NaN</td>\n",
       "      <td>NaN</td>\n",
       "      <td>NaN</td>\n",
       "      <td>NaN</td>\n",
       "      <td>NaN</td>\n",
       "    </tr>\n",
       "    <tr>\n",
       "      <th>2</th>\n",
       "      <td>2000</td>\n",
       "      <td>Savage Garden</td>\n",
       "      <td>I Knew I Loved You</td>\n",
       "      <td>4:07</td>\n",
       "      <td>Rock</td>\n",
       "      <td>1999-10-23</td>\n",
       "      <td>2000-01-29</td>\n",
       "      <td>71</td>\n",
       "      <td>48.0</td>\n",
       "      <td>43.0</td>\n",
       "      <td>...</td>\n",
       "      <td>NaN</td>\n",
       "      <td>NaN</td>\n",
       "      <td>NaN</td>\n",
       "      <td>NaN</td>\n",
       "      <td>NaN</td>\n",
       "      <td>NaN</td>\n",
       "      <td>NaN</td>\n",
       "      <td>NaN</td>\n",
       "      <td>NaN</td>\n",
       "      <td>NaN</td>\n",
       "    </tr>\n",
       "    <tr>\n",
       "      <th>3</th>\n",
       "      <td>2000</td>\n",
       "      <td>Madonna</td>\n",
       "      <td>Music</td>\n",
       "      <td>3:45</td>\n",
       "      <td>Rock</td>\n",
       "      <td>2000-08-12</td>\n",
       "      <td>2000-09-16</td>\n",
       "      <td>41</td>\n",
       "      <td>23.0</td>\n",
       "      <td>18.0</td>\n",
       "      <td>...</td>\n",
       "      <td>NaN</td>\n",
       "      <td>NaN</td>\n",
       "      <td>NaN</td>\n",
       "      <td>NaN</td>\n",
       "      <td>NaN</td>\n",
       "      <td>NaN</td>\n",
       "      <td>NaN</td>\n",
       "      <td>NaN</td>\n",
       "      <td>NaN</td>\n",
       "      <td>NaN</td>\n",
       "    </tr>\n",
       "    <tr>\n",
       "      <th>4</th>\n",
       "      <td>2000</td>\n",
       "      <td>Aguilera, Christina</td>\n",
       "      <td>Come On Over Baby (All I Want Is You)</td>\n",
       "      <td>3:38</td>\n",
       "      <td>Rock</td>\n",
       "      <td>2000-08-05</td>\n",
       "      <td>2000-10-14</td>\n",
       "      <td>57</td>\n",
       "      <td>47.0</td>\n",
       "      <td>45.0</td>\n",
       "      <td>...</td>\n",
       "      <td>NaN</td>\n",
       "      <td>NaN</td>\n",
       "      <td>NaN</td>\n",
       "      <td>NaN</td>\n",
       "      <td>NaN</td>\n",
       "      <td>NaN</td>\n",
       "      <td>NaN</td>\n",
       "      <td>NaN</td>\n",
       "      <td>NaN</td>\n",
       "      <td>NaN</td>\n",
       "    </tr>\n",
       "  </tbody>\n",
       "</table>\n",
       "<p>5 rows × 83 columns</p>\n",
       "</div>"
      ],
      "text/plain": [
       "   year      artist.inverted                                  track  time  \\\n",
       "0  2000      Destiny's Child               Independent Women Part I  3:38   \n",
       "1  2000              Santana                           Maria, Maria  4:18   \n",
       "2  2000        Savage Garden                     I Knew I Loved You  4:07   \n",
       "3  2000              Madonna                                  Music  3:45   \n",
       "4  2000  Aguilera, Christina  Come On Over Baby (All I Want Is You)  3:38   \n",
       "\n",
       "  genre date.entered date.peaked  x1st.week  x2nd.week  x3rd.week  ...  \\\n",
       "0  Rock   2000-09-23  2000-11-18         78       63.0       49.0  ...   \n",
       "1  Rock   2000-02-12  2000-04-08         15        8.0        6.0  ...   \n",
       "2  Rock   1999-10-23  2000-01-29         71       48.0       43.0  ...   \n",
       "3  Rock   2000-08-12  2000-09-16         41       23.0       18.0  ...   \n",
       "4  Rock   2000-08-05  2000-10-14         57       47.0       45.0  ...   \n",
       "\n",
       "   x67th.week  x68th.week  x69th.week  x70th.week  x71st.week  x72nd.week  \\\n",
       "0         NaN         NaN         NaN         NaN         NaN         NaN   \n",
       "1         NaN         NaN         NaN         NaN         NaN         NaN   \n",
       "2         NaN         NaN         NaN         NaN         NaN         NaN   \n",
       "3         NaN         NaN         NaN         NaN         NaN         NaN   \n",
       "4         NaN         NaN         NaN         NaN         NaN         NaN   \n",
       "\n",
       "   x73rd.week  x74th.week  x75th.week  x76th.week  \n",
       "0         NaN         NaN         NaN         NaN  \n",
       "1         NaN         NaN         NaN         NaN  \n",
       "2         NaN         NaN         NaN         NaN  \n",
       "3         NaN         NaN         NaN         NaN  \n",
       "4         NaN         NaN         NaN         NaN  \n",
       "\n",
       "[5 rows x 83 columns]"
      ]
     },
     "execution_count": 45,
     "metadata": {},
     "output_type": "execute_result"
    }
   ],
   "source": [
    "# Load the Billboard dataset\n",
    "df_billboard = pd.read_csv('./CSVs/billboard.csv', encoding='unicode_escape')\n",
    "\n",
    "# Display the first few rows\n",
    "df_billboard.head()"
   ]
  },
  {
   "cell_type": "markdown",
   "metadata": {},
   "source": [
    "### Step 2: Identify Issues\n",
    "\n",
    "The dataset has week columns (e.g., `wk1`, `wk2`) as separate columns, making it wide rather than long. This is not tidy, as the week number should be a single variable."
   ]
  },
  {
   "cell_type": "markdown",
   "metadata": {},
   "source": [
    "### Step 3: Tidy with `melt`\n",
    "\n",
    "We use `melt` to transform week columns into a `Week` column and their values into a `Rank` column."
   ]
  },
  {
   "cell_type": "code",
   "execution_count": 46,
   "metadata": {},
   "outputs": [
    {
     "data": {
      "application/vnd.microsoft.datawrangler.viewer.v0+json": {
       "columns": [
        {
         "name": "index",
         "rawType": "int64",
         "type": "integer"
        },
        {
         "name": "year",
         "rawType": "int64",
         "type": "integer"
        },
        {
         "name": "artist.inverted",
         "rawType": "object",
         "type": "string"
        },
        {
         "name": "track",
         "rawType": "object",
         "type": "string"
        },
        {
         "name": "time",
         "rawType": "object",
         "type": "string"
        },
        {
         "name": "genre",
         "rawType": "object",
         "type": "string"
        },
        {
         "name": "date.entered",
         "rawType": "object",
         "type": "string"
        },
        {
         "name": "date.peaked",
         "rawType": "object",
         "type": "string"
        },
        {
         "name": "Week",
         "rawType": "object",
         "type": "string"
        },
        {
         "name": "Rank",
         "rawType": "float64",
         "type": "float"
        }
       ],
       "ref": "7594c0af-46a9-473c-ae3f-ad593a3fed86",
       "rows": [
        [
         "0",
         "2000",
         "Destiny's Child",
         "Independent Women Part I",
         "3:38",
         "Rock",
         "2000-09-23",
         "2000-11-18",
         "x1st.week",
         "78.0"
        ],
        [
         "1",
         "2000",
         "Santana",
         "Maria, Maria",
         "4:18",
         "Rock",
         "2000-02-12",
         "2000-04-08",
         "x1st.week",
         "15.0"
        ],
        [
         "2",
         "2000",
         "Savage Garden",
         "I Knew I Loved You",
         "4:07",
         "Rock",
         "1999-10-23",
         "2000-01-29",
         "x1st.week",
         "71.0"
        ],
        [
         "3",
         "2000",
         "Madonna",
         "Music",
         "3:45",
         "Rock",
         "2000-08-12",
         "2000-09-16",
         "x1st.week",
         "41.0"
        ],
        [
         "4",
         "2000",
         "Aguilera, Christina",
         "Come On Over Baby (All I Want Is You)",
         "3:38",
         "Rock",
         "2000-08-05",
         "2000-10-14",
         "x1st.week",
         "57.0"
        ]
       ],
       "shape": {
        "columns": 9,
        "rows": 5
       }
      },
      "text/html": [
       "<div>\n",
       "<style scoped>\n",
       "    .dataframe tbody tr th:only-of-type {\n",
       "        vertical-align: middle;\n",
       "    }\n",
       "\n",
       "    .dataframe tbody tr th {\n",
       "        vertical-align: top;\n",
       "    }\n",
       "\n",
       "    .dataframe thead th {\n",
       "        text-align: right;\n",
       "    }\n",
       "</style>\n",
       "<table border=\"1\" class=\"dataframe\">\n",
       "  <thead>\n",
       "    <tr style=\"text-align: right;\">\n",
       "      <th></th>\n",
       "      <th>year</th>\n",
       "      <th>artist.inverted</th>\n",
       "      <th>track</th>\n",
       "      <th>time</th>\n",
       "      <th>genre</th>\n",
       "      <th>date.entered</th>\n",
       "      <th>date.peaked</th>\n",
       "      <th>Week</th>\n",
       "      <th>Rank</th>\n",
       "    </tr>\n",
       "  </thead>\n",
       "  <tbody>\n",
       "    <tr>\n",
       "      <th>0</th>\n",
       "      <td>2000</td>\n",
       "      <td>Destiny's Child</td>\n",
       "      <td>Independent Women Part I</td>\n",
       "      <td>3:38</td>\n",
       "      <td>Rock</td>\n",
       "      <td>2000-09-23</td>\n",
       "      <td>2000-11-18</td>\n",
       "      <td>x1st.week</td>\n",
       "      <td>78.0</td>\n",
       "    </tr>\n",
       "    <tr>\n",
       "      <th>1</th>\n",
       "      <td>2000</td>\n",
       "      <td>Santana</td>\n",
       "      <td>Maria, Maria</td>\n",
       "      <td>4:18</td>\n",
       "      <td>Rock</td>\n",
       "      <td>2000-02-12</td>\n",
       "      <td>2000-04-08</td>\n",
       "      <td>x1st.week</td>\n",
       "      <td>15.0</td>\n",
       "    </tr>\n",
       "    <tr>\n",
       "      <th>2</th>\n",
       "      <td>2000</td>\n",
       "      <td>Savage Garden</td>\n",
       "      <td>I Knew I Loved You</td>\n",
       "      <td>4:07</td>\n",
       "      <td>Rock</td>\n",
       "      <td>1999-10-23</td>\n",
       "      <td>2000-01-29</td>\n",
       "      <td>x1st.week</td>\n",
       "      <td>71.0</td>\n",
       "    </tr>\n",
       "    <tr>\n",
       "      <th>3</th>\n",
       "      <td>2000</td>\n",
       "      <td>Madonna</td>\n",
       "      <td>Music</td>\n",
       "      <td>3:45</td>\n",
       "      <td>Rock</td>\n",
       "      <td>2000-08-12</td>\n",
       "      <td>2000-09-16</td>\n",
       "      <td>x1st.week</td>\n",
       "      <td>41.0</td>\n",
       "    </tr>\n",
       "    <tr>\n",
       "      <th>4</th>\n",
       "      <td>2000</td>\n",
       "      <td>Aguilera, Christina</td>\n",
       "      <td>Come On Over Baby (All I Want Is You)</td>\n",
       "      <td>3:38</td>\n",
       "      <td>Rock</td>\n",
       "      <td>2000-08-05</td>\n",
       "      <td>2000-10-14</td>\n",
       "      <td>x1st.week</td>\n",
       "      <td>57.0</td>\n",
       "    </tr>\n",
       "  </tbody>\n",
       "</table>\n",
       "</div>"
      ],
      "text/plain": [
       "   year      artist.inverted                                  track  time  \\\n",
       "0  2000      Destiny's Child               Independent Women Part I  3:38   \n",
       "1  2000              Santana                           Maria, Maria  4:18   \n",
       "2  2000        Savage Garden                     I Knew I Loved You  4:07   \n",
       "3  2000              Madonna                                  Music  3:45   \n",
       "4  2000  Aguilera, Christina  Come On Over Baby (All I Want Is You)  3:38   \n",
       "\n",
       "  genre date.entered date.peaked       Week  Rank  \n",
       "0  Rock   2000-09-23  2000-11-18  x1st.week  78.0  \n",
       "1  Rock   2000-02-12  2000-04-08  x1st.week  15.0  \n",
       "2  Rock   1999-10-23  2000-01-29  x1st.week  71.0  \n",
       "3  Rock   2000-08-12  2000-09-16  x1st.week  41.0  \n",
       "4  Rock   2000-08-05  2000-10-14  x1st.week  57.0  "
      ]
     },
     "execution_count": 46,
     "metadata": {},
     "output_type": "execute_result"
    }
   ],
   "source": [
    "# Identify non-week columns\n",
    "id_vars = ['year', 'artist.inverted', 'track', 'time', 'genre', 'date.entered', 'date.peaked']\n",
    "\n",
    "# Melt the dataset\n",
    "df_billboard_tidy = pd.melt(\n",
    "    df_billboard,\n",
    "    id_vars=id_vars,\n",
    "    var_name='Week',\n",
    "    value_name='Rank'\n",
    ")\n",
    "\n",
    "# Display the tidied dataset\n",
    "df_billboard_tidy.head()"
   ]
  },
  {
   "cell_type": "markdown",
   "metadata": {},
   "source": [
    "### Step 4: Clean the Week Column\n",
    "\n",
    "The `Week` column contains text like `wk1`. We extract only the numeric week number for clarity."
   ]
  },
  {
   "cell_type": "code",
   "execution_count": 47,
   "metadata": {},
   "outputs": [
    {
     "name": "stdout",
     "output_type": "stream",
     "text": [
      "\n",
      "Week column after cleaning:\n",
      "0    1\n",
      "1    1\n",
      "2    1\n",
      "3    1\n",
      "4    1\n",
      "Name: Week, dtype: int64\n"
     ]
    }
   ],
   "source": [
    "# Extract numeric week number (e.g., 1 from 'x1st.week') using regex\n",
    "df_billboard_tidy['Week'] = df_billboard_tidy['Week'].str.extract(r'x(\\d+)')\n",
    "\n",
    "# Convert Week to numeric (float first to allow NaNs), drop missing weeks, then cast to int\n",
    "df_billboard_tidy['Week'] = pd.to_numeric(df_billboard_tidy['Week'], errors='coerce')\n",
    "df_billboard_tidy = df_billboard_tidy.dropna(subset=['Week'])\n",
    "df_billboard_tidy['Week'] = df_billboard_tidy['Week'].astype(int)\n",
    "\n",
    "# Verify Week column\n",
    "print(\"\\nWeek column after cleaning:\")\n",
    "print(df_billboard_tidy['Week'].head())"
   ]
  },
  {
   "cell_type": "markdown",
   "metadata": {},
   "source": [
    "### Step 5: Calculate Ranking Dates\n",
    "\n",
    "To find the date when a song achieved a specific rank, we add the week number (as a timedelta) to the entry date. The formula is:\n",
    "\n",
    "```\n",
    "Ranking Date = date.entered + (Week - 1) * 7 days\n",
    "```"
   ]
  },
  {
   "cell_type": "code",
   "execution_count": 48,
   "metadata": {},
   "outputs": [
    {
     "name": "stdout",
     "output_type": "stream",
     "text": [
      "\n",
      "Ranking date verification:\n",
      "  date.entered  Week Ranking_Date\n",
      "0   2000-09-23     1   2000-09-23\n",
      "1   2000-02-12     1   2000-02-12\n",
      "2   1999-10-23     1   1999-10-23\n",
      "3   2000-08-12     1   2000-08-12\n",
      "4   2000-08-05     1   2000-08-05\n"
     ]
    }
   ],
   "source": [
    "df_billboard_tidy['date.entered'] = pd.to_datetime(df_billboard_tidy['date.entered'])\n",
    "\n",
    "# Step 5: Calculate Ranking_Date\n",
    "df_billboard_tidy['Ranking_Date'] = df_billboard_tidy['date.entered'] + pd.to_timedelta((df_billboard_tidy['Week'] - 1) * 7, unit='D')\n",
    "\n",
    "# Verify date transformation\n",
    "print(\"\\nRanking date verification:\")\n",
    "print(df_billboard_tidy[['date.entered', 'Week', 'Ranking_Date']].head())"
   ]
  },
  {
   "cell_type": "markdown",
   "metadata": {},
   "source": [
    "### Step 6: Finalize the Dataset\n",
    "\n",
    "We now:\n",
    "1. Keep essential columns (e.g., track, artist, week, rank, ranking date).\n",
    "2. Rename columns for clarity.\n",
    "3. Drop rows with `NaN` in `Rank`, as they indicate weeks when a song was not ranked."
   ]
  },
  {
   "cell_type": "code",
   "execution_count": 49,
   "metadata": {},
   "outputs": [
    {
     "data": {
      "application/vnd.microsoft.datawrangler.viewer.v0+json": {
       "columns": [
        {
         "name": "index",
         "rawType": "int64",
         "type": "integer"
        },
        {
         "name": "Song_Name",
         "rawType": "object",
         "type": "string"
        },
        {
         "name": "Artist",
         "rawType": "object",
         "type": "string"
        },
        {
         "name": "Week",
         "rawType": "int64",
         "type": "integer"
        },
        {
         "name": "Weekly_Rank",
         "rawType": "float64",
         "type": "float"
        },
        {
         "name": "Ranking_Date",
         "rawType": "datetime64[ns]",
         "type": "datetime"
        }
       ],
       "ref": "16822a11-a054-49ab-9326-36d19e2aa291",
       "rows": [
        [
         "0",
         "Independent Women Part I",
         "Destiny's Child",
         "1",
         "78.0",
         "2000-09-23 00:00:00"
        ],
        [
         "1",
         "Maria, Maria",
         "Santana",
         "1",
         "15.0",
         "2000-02-12 00:00:00"
        ],
        [
         "2",
         "I Knew I Loved You",
         "Savage Garden",
         "1",
         "71.0",
         "1999-10-23 00:00:00"
        ],
        [
         "3",
         "Music",
         "Madonna",
         "1",
         "41.0",
         "2000-08-12 00:00:00"
        ],
        [
         "4",
         "Come On Over Baby (All I Want Is You)",
         "Aguilera, Christina",
         "1",
         "57.0",
         "2000-08-05 00:00:00"
        ]
       ],
       "shape": {
        "columns": 5,
        "rows": 5
       }
      },
      "text/html": [
       "<div>\n",
       "<style scoped>\n",
       "    .dataframe tbody tr th:only-of-type {\n",
       "        vertical-align: middle;\n",
       "    }\n",
       "\n",
       "    .dataframe tbody tr th {\n",
       "        vertical-align: top;\n",
       "    }\n",
       "\n",
       "    .dataframe thead th {\n",
       "        text-align: right;\n",
       "    }\n",
       "</style>\n",
       "<table border=\"1\" class=\"dataframe\">\n",
       "  <thead>\n",
       "    <tr style=\"text-align: right;\">\n",
       "      <th></th>\n",
       "      <th>Song_Name</th>\n",
       "      <th>Artist</th>\n",
       "      <th>Week</th>\n",
       "      <th>Weekly_Rank</th>\n",
       "      <th>Ranking_Date</th>\n",
       "    </tr>\n",
       "  </thead>\n",
       "  <tbody>\n",
       "    <tr>\n",
       "      <th>0</th>\n",
       "      <td>Independent Women Part I</td>\n",
       "      <td>Destiny's Child</td>\n",
       "      <td>1</td>\n",
       "      <td>78.0</td>\n",
       "      <td>2000-09-23</td>\n",
       "    </tr>\n",
       "    <tr>\n",
       "      <th>1</th>\n",
       "      <td>Maria, Maria</td>\n",
       "      <td>Santana</td>\n",
       "      <td>1</td>\n",
       "      <td>15.0</td>\n",
       "      <td>2000-02-12</td>\n",
       "    </tr>\n",
       "    <tr>\n",
       "      <th>2</th>\n",
       "      <td>I Knew I Loved You</td>\n",
       "      <td>Savage Garden</td>\n",
       "      <td>1</td>\n",
       "      <td>71.0</td>\n",
       "      <td>1999-10-23</td>\n",
       "    </tr>\n",
       "    <tr>\n",
       "      <th>3</th>\n",
       "      <td>Music</td>\n",
       "      <td>Madonna</td>\n",
       "      <td>1</td>\n",
       "      <td>41.0</td>\n",
       "      <td>2000-08-12</td>\n",
       "    </tr>\n",
       "    <tr>\n",
       "      <th>4</th>\n",
       "      <td>Come On Over Baby (All I Want Is You)</td>\n",
       "      <td>Aguilera, Christina</td>\n",
       "      <td>1</td>\n",
       "      <td>57.0</td>\n",
       "      <td>2000-08-05</td>\n",
       "    </tr>\n",
       "  </tbody>\n",
       "</table>\n",
       "</div>"
      ],
      "text/plain": [
       "                               Song_Name               Artist  Week  \\\n",
       "0               Independent Women Part I      Destiny's Child     1   \n",
       "1                           Maria, Maria              Santana     1   \n",
       "2                     I Knew I Loved You        Savage Garden     1   \n",
       "3                                  Music              Madonna     1   \n",
       "4  Come On Over Baby (All I Want Is You)  Aguilera, Christina     1   \n",
       "\n",
       "   Weekly_Rank Ranking_Date  \n",
       "0         78.0   2000-09-23  \n",
       "1         15.0   2000-02-12  \n",
       "2         71.0   1999-10-23  \n",
       "3         41.0   2000-08-12  \n",
       "4         57.0   2000-08-05  "
      ]
     },
     "execution_count": 49,
     "metadata": {},
     "output_type": "execute_result"
    }
   ],
   "source": [
    "# Keep essential columns\n",
    "df_billboard_clean = df_billboard_tidy[['track', 'artist.inverted', 'Week', 'Rank', 'Ranking_Date']]\n",
    "\n",
    "# Rename columns\n",
    "df_billboard_clean = df_billboard_clean.rename(columns={\n",
    "    'track': 'Song_Name',\n",
    "    'artist.inverted': 'Artist',\n",
    "    'Rank': 'Weekly_Rank'\n",
    "})\n",
    "\n",
    "# Drop NaN ranks\n",
    "df_billboard_clean = df_billboard_clean.dropna(subset=['Weekly_Rank'])\n",
    "\n",
    "# Display the cleaned dataset\n",
    "df_billboard_clean.head()"
   ]
  },
  {
   "cell_type": "markdown",
   "metadata": {},
   "source": [
    "## Data Cleaning - Cars Dataset\n",
    "\n",
    "In this section, we clean the `cars.csv` dataset by addressing missing values and preparing it for analysis. The steps include:\n",
    "\n",
    "1. **Loading the Dataset**: Read the dataset and remove invalid rows.\n",
    "2. **Inspecting Missing Values**: Quantify missing data.\n",
    "3. **Handling Missing Values**: Drop rows or impute numerical columns using mean or `SimpleImputer`.\n",
    "4. **Validating Results**: Ensure the dataset is clean.\n",
    "\n",
    "### Step 1: Load the Dataset\n",
    "\n",
    "We load the dataset and inspect its structure."
   ]
  },
  {
   "cell_type": "code",
   "execution_count": 50,
   "metadata": {},
   "outputs": [
    {
     "data": {
      "application/vnd.microsoft.datawrangler.viewer.v0+json": {
       "columns": [
        {
         "name": "index",
         "rawType": "int64",
         "type": "integer"
        },
        {
         "name": "Car",
         "rawType": "object",
         "type": "string"
        },
        {
         "name": "MPG",
         "rawType": "object",
         "type": "unknown"
        },
        {
         "name": "Cylinders",
         "rawType": "object",
         "type": "string"
        },
        {
         "name": "Displacement",
         "rawType": "object",
         "type": "unknown"
        },
        {
         "name": "Horsepower",
         "rawType": "object",
         "type": "unknown"
        },
        {
         "name": "Weight",
         "rawType": "object",
         "type": "unknown"
        },
        {
         "name": "Acceleration",
         "rawType": "object",
         "type": "string"
        },
        {
         "name": "Model",
         "rawType": "object",
         "type": "string"
        },
        {
         "name": "Origin",
         "rawType": "object",
         "type": "string"
        }
       ],
       "ref": "d7788040-6028-4380-94c7-0b946f68f235",
       "rows": [
        [
         "0",
         "STRING",
         "DOUBLE",
         "INT",
         "DOUBLE",
         "DOUBLE",
         "DOUBLE",
         "DOUBLE",
         "INT",
         "CAT"
        ],
        [
         "1",
         "Chevrolet Chevelle Malibu",
         null,
         "8",
         "307.0",
         "130.0",
         "3504.",
         "12.0",
         "70",
         "US"
        ],
        [
         "2",
         "Buick Skylark 320",
         "15.0",
         "8",
         "350.0",
         null,
         "3693.",
         "11.5",
         "70",
         "US"
        ],
        [
         "3",
         "Plymouth Satellite",
         null,
         "8",
         "318.0",
         "150.0",
         "3436.",
         "11.0",
         "70",
         "US"
        ],
        [
         "4",
         "AMC Rebel SST",
         "16.0",
         "8",
         null,
         "150.0",
         null,
         "12.0",
         "70",
         "US"
        ]
       ],
       "shape": {
        "columns": 9,
        "rows": 5
       }
      },
      "text/html": [
       "<div>\n",
       "<style scoped>\n",
       "    .dataframe tbody tr th:only-of-type {\n",
       "        vertical-align: middle;\n",
       "    }\n",
       "\n",
       "    .dataframe tbody tr th {\n",
       "        vertical-align: top;\n",
       "    }\n",
       "\n",
       "    .dataframe thead th {\n",
       "        text-align: right;\n",
       "    }\n",
       "</style>\n",
       "<table border=\"1\" class=\"dataframe\">\n",
       "  <thead>\n",
       "    <tr style=\"text-align: right;\">\n",
       "      <th></th>\n",
       "      <th>Car</th>\n",
       "      <th>MPG</th>\n",
       "      <th>Cylinders</th>\n",
       "      <th>Displacement</th>\n",
       "      <th>Horsepower</th>\n",
       "      <th>Weight</th>\n",
       "      <th>Acceleration</th>\n",
       "      <th>Model</th>\n",
       "      <th>Origin</th>\n",
       "    </tr>\n",
       "  </thead>\n",
       "  <tbody>\n",
       "    <tr>\n",
       "      <th>0</th>\n",
       "      <td>STRING</td>\n",
       "      <td>DOUBLE</td>\n",
       "      <td>INT</td>\n",
       "      <td>DOUBLE</td>\n",
       "      <td>DOUBLE</td>\n",
       "      <td>DOUBLE</td>\n",
       "      <td>DOUBLE</td>\n",
       "      <td>INT</td>\n",
       "      <td>CAT</td>\n",
       "    </tr>\n",
       "    <tr>\n",
       "      <th>1</th>\n",
       "      <td>Chevrolet Chevelle Malibu</td>\n",
       "      <td>NaN</td>\n",
       "      <td>8</td>\n",
       "      <td>307.0</td>\n",
       "      <td>130.0</td>\n",
       "      <td>3504.</td>\n",
       "      <td>12.0</td>\n",
       "      <td>70</td>\n",
       "      <td>US</td>\n",
       "    </tr>\n",
       "    <tr>\n",
       "      <th>2</th>\n",
       "      <td>Buick Skylark 320</td>\n",
       "      <td>15.0</td>\n",
       "      <td>8</td>\n",
       "      <td>350.0</td>\n",
       "      <td>NaN</td>\n",
       "      <td>3693.</td>\n",
       "      <td>11.5</td>\n",
       "      <td>70</td>\n",
       "      <td>US</td>\n",
       "    </tr>\n",
       "    <tr>\n",
       "      <th>3</th>\n",
       "      <td>Plymouth Satellite</td>\n",
       "      <td>NaN</td>\n",
       "      <td>8</td>\n",
       "      <td>318.0</td>\n",
       "      <td>150.0</td>\n",
       "      <td>3436.</td>\n",
       "      <td>11.0</td>\n",
       "      <td>70</td>\n",
       "      <td>US</td>\n",
       "    </tr>\n",
       "    <tr>\n",
       "      <th>4</th>\n",
       "      <td>AMC Rebel SST</td>\n",
       "      <td>16.0</td>\n",
       "      <td>8</td>\n",
       "      <td>NaN</td>\n",
       "      <td>150.0</td>\n",
       "      <td>NaN</td>\n",
       "      <td>12.0</td>\n",
       "      <td>70</td>\n",
       "      <td>US</td>\n",
       "    </tr>\n",
       "  </tbody>\n",
       "</table>\n",
       "</div>"
      ],
      "text/plain": [
       "                         Car     MPG Cylinders Displacement Horsepower  \\\n",
       "0                     STRING  DOUBLE       INT       DOUBLE     DOUBLE   \n",
       "1  Chevrolet Chevelle Malibu     NaN         8        307.0      130.0   \n",
       "2          Buick Skylark 320    15.0         8        350.0        NaN   \n",
       "3         Plymouth Satellite     NaN         8        318.0      150.0   \n",
       "4              AMC Rebel SST    16.0         8          NaN      150.0   \n",
       "\n",
       "   Weight Acceleration Model Origin  \n",
       "0  DOUBLE       DOUBLE   INT    CAT  \n",
       "1   3504.         12.0    70     US  \n",
       "2   3693.         11.5    70     US  \n",
       "3   3436.         11.0    70     US  \n",
       "4     NaN         12.0    70     US  "
      ]
     },
     "execution_count": 50,
     "metadata": {},
     "output_type": "execute_result"
    }
   ],
   "source": [
    "# Load the cars dataset\n",
    "df_cars = pd.read_csv('./CSVs/cars.csv', sep=';')\n",
    "\n",
    "# Display the first few rows\n",
    "df_cars.head()"
   ]
  },
  {
   "cell_type": "markdown",
   "metadata": {},
   "source": [
    "### Step 2: Remove Invalid Row\n",
    "\n",
    "The first row contains datatype information, which we remove."
   ]
  },
  {
   "cell_type": "code",
   "execution_count": 51,
   "metadata": {},
   "outputs": [
    {
     "name": "stdout",
     "output_type": "stream",
     "text": [
      "\n",
      "After removing datatype row:\n",
      "+----+---------------------------+-------+-------------+----------------+--------------+----------+----------------+---------+----------+\n",
      "|    | Car                       |   MPG |   Cylinders |   Displacement |   Horsepower |   Weight |   Acceleration |   Model | Origin   |\n",
      "+====+===========================+=======+=============+================+==============+==========+================+=========+==========+\n",
      "|  0 | Chevrolet Chevelle Malibu |   nan |           8 |            307 |          130 |     3504 |           12   |      70 | US       |\n",
      "+----+---------------------------+-------+-------------+----------------+--------------+----------+----------------+---------+----------+\n",
      "|  1 | Buick Skylark 320         |    15 |           8 |            350 |          nan |     3693 |           11.5 |      70 | US       |\n",
      "+----+---------------------------+-------+-------------+----------------+--------------+----------+----------------+---------+----------+\n",
      "|  2 | Plymouth Satellite        |   nan |           8 |            318 |          150 |     3436 |           11   |      70 | US       |\n",
      "+----+---------------------------+-------+-------------+----------------+--------------+----------+----------------+---------+----------+\n",
      "|  3 | AMC Rebel SST             |    16 |           8 |            nan |          150 |      nan |           12   |      70 | US       |\n",
      "+----+---------------------------+-------+-------------+----------------+--------------+----------+----------------+---------+----------+\n",
      "|  4 | Ford Torino               |    17 |           8 |            302 |          140 |     3449 |           10.5 |      70 | US       |\n",
      "+----+---------------------------+-------+-------------+----------------+--------------+----------+----------------+---------+----------+\n"
     ]
    }
   ],
   "source": [
    "# Remove the first row\n",
    "df_cars = df_cars.drop(0).reset_index(drop=True)\n",
    "\n",
    "# Verify the change\n",
    "print(\"\\nAfter removing datatype row:\")\n",
    "print(tabulate(df_cars.head(), headers='keys', tablefmt='grid'))"
   ]
  },
  {
   "cell_type": "markdown",
   "metadata": {},
   "source": [
    "### Step 3: Inspect Missing Values\n",
    "\n",
    "We check for missing values and calculate their percentage to decide on a handling strategy."
   ]
  },
  {
   "cell_type": "code",
   "execution_count": 52,
   "metadata": {},
   "outputs": [
    {
     "name": "stdout",
     "output_type": "stream",
     "text": [
      "Missing Values per Column:\n",
      "Car             0\n",
      "MPG             3\n",
      "Cylinders       0\n",
      "Displacement    1\n",
      "Horsepower      2\n",
      "Weight          1\n",
      "Acceleration    0\n",
      "Model           0\n",
      "Origin          0\n",
      "dtype: int64\n",
      "\n",
      "Percentage of Missing Values: 0.19%\n"
     ]
    }
   ],
   "source": [
    "# Check missing values\n",
    "missing_values = df_cars.isnull().sum()\n",
    "print(\"Missing Values per Column:\")\n",
    "print(missing_values)\n",
    "\n",
    "# Calculate percentage\n",
    "total_cells = np.prod(df_cars.shape)\n",
    "missing_cells = missing_values.sum()\n",
    "missing_percentage = (missing_cells / total_cells) * 100\n",
    "print(f\"\\nPercentage of Missing Values: {missing_percentage:.2f}%\")"
   ]
  },
  {
   "cell_type": "markdown",
   "metadata": {},
   "source": [
    "### Step 4: Drop Rows with Missing Values\n",
    "\n",
    "With only ~0.19% missing values, dropping rows is viable."
   ]
  },
  {
   "cell_type": "code",
   "execution_count": 53,
   "metadata": {},
   "outputs": [
    {
     "name": "stdout",
     "output_type": "stream",
     "text": [
      "Original Shape: (406, 9)\n",
      "Shape after Dropping: (401, 9)\n"
     ]
    }
   ],
   "source": [
    "# Drop rows with missing values\n",
    "df_cars_dropped = df_cars.dropna()\n",
    "\n",
    "# Verify shape\n",
    "print(f\"Original Shape: {df_cars.shape}\")\n",
    "print(f\"Shape after Dropping: {df_cars_dropped.shape}\")"
   ]
  },
  {
   "cell_type": "markdown",
   "metadata": {},
   "source": [
    "### Step 5: Impute with Mean\n",
    "\n",
    "For numerical columns like `MPG`, we check the distribution to confirm if mean imputation is appropriate."
   ]
  },
  {
   "cell_type": "code",
   "execution_count": 54,
   "metadata": {},
   "outputs": [
    {
     "data": {
      "application/vnd.microsoft.datawrangler.viewer.v0+json": {
       "columns": [
        {
         "name": "index",
         "rawType": "int64",
         "type": "integer"
        },
        {
         "name": "Car",
         "rawType": "object",
         "type": "string"
        },
        {
         "name": "MPG",
         "rawType": "object",
         "type": "unknown"
        },
        {
         "name": "Cylinders",
         "rawType": "object",
         "type": "string"
        },
        {
         "name": "Displacement",
         "rawType": "object",
         "type": "unknown"
        },
        {
         "name": "Horsepower",
         "rawType": "object",
         "type": "unknown"
        },
        {
         "name": "Weight",
         "rawType": "object",
         "type": "unknown"
        },
        {
         "name": "Acceleration",
         "rawType": "object",
         "type": "string"
        },
        {
         "name": "Model",
         "rawType": "object",
         "type": "string"
        },
        {
         "name": "Origin",
         "rawType": "object",
         "type": "string"
        }
       ],
       "ref": "1e2c45f0-f158-406d-b230-39405495af2d",
       "rows": [
        [
         "0",
         "Chevrolet Chevelle Malibu",
         null,
         "8",
         "307.0",
         "130.0",
         "3504.",
         "12.0",
         "70",
         "US"
        ],
        [
         "1",
         "Buick Skylark 320",
         "15.0",
         "8",
         "350.0",
         null,
         "3693.",
         "11.5",
         "70",
         "US"
        ],
        [
         "2",
         "Plymouth Satellite",
         null,
         "8",
         "318.0",
         "150.0",
         "3436.",
         "11.0",
         "70",
         "US"
        ],
        [
         "3",
         "AMC Rebel SST",
         "16.0",
         "8",
         null,
         "150.0",
         null,
         "12.0",
         "70",
         "US"
        ],
        [
         "4",
         "Ford Torino",
         "17.0",
         "8",
         "302.0",
         "140.0",
         "3449.",
         "10.5",
         "70",
         "US"
        ]
       ],
       "shape": {
        "columns": 9,
        "rows": 5
       }
      },
      "text/html": [
       "<div>\n",
       "<style scoped>\n",
       "    .dataframe tbody tr th:only-of-type {\n",
       "        vertical-align: middle;\n",
       "    }\n",
       "\n",
       "    .dataframe tbody tr th {\n",
       "        vertical-align: top;\n",
       "    }\n",
       "\n",
       "    .dataframe thead th {\n",
       "        text-align: right;\n",
       "    }\n",
       "</style>\n",
       "<table border=\"1\" class=\"dataframe\">\n",
       "  <thead>\n",
       "    <tr style=\"text-align: right;\">\n",
       "      <th></th>\n",
       "      <th>Car</th>\n",
       "      <th>MPG</th>\n",
       "      <th>Cylinders</th>\n",
       "      <th>Displacement</th>\n",
       "      <th>Horsepower</th>\n",
       "      <th>Weight</th>\n",
       "      <th>Acceleration</th>\n",
       "      <th>Model</th>\n",
       "      <th>Origin</th>\n",
       "    </tr>\n",
       "  </thead>\n",
       "  <tbody>\n",
       "    <tr>\n",
       "      <th>0</th>\n",
       "      <td>Chevrolet Chevelle Malibu</td>\n",
       "      <td>NaN</td>\n",
       "      <td>8</td>\n",
       "      <td>307.0</td>\n",
       "      <td>130.0</td>\n",
       "      <td>3504.</td>\n",
       "      <td>12.0</td>\n",
       "      <td>70</td>\n",
       "      <td>US</td>\n",
       "    </tr>\n",
       "    <tr>\n",
       "      <th>1</th>\n",
       "      <td>Buick Skylark 320</td>\n",
       "      <td>15.0</td>\n",
       "      <td>8</td>\n",
       "      <td>350.0</td>\n",
       "      <td>NaN</td>\n",
       "      <td>3693.</td>\n",
       "      <td>11.5</td>\n",
       "      <td>70</td>\n",
       "      <td>US</td>\n",
       "    </tr>\n",
       "    <tr>\n",
       "      <th>2</th>\n",
       "      <td>Plymouth Satellite</td>\n",
       "      <td>NaN</td>\n",
       "      <td>8</td>\n",
       "      <td>318.0</td>\n",
       "      <td>150.0</td>\n",
       "      <td>3436.</td>\n",
       "      <td>11.0</td>\n",
       "      <td>70</td>\n",
       "      <td>US</td>\n",
       "    </tr>\n",
       "    <tr>\n",
       "      <th>3</th>\n",
       "      <td>AMC Rebel SST</td>\n",
       "      <td>16.0</td>\n",
       "      <td>8</td>\n",
       "      <td>NaN</td>\n",
       "      <td>150.0</td>\n",
       "      <td>NaN</td>\n",
       "      <td>12.0</td>\n",
       "      <td>70</td>\n",
       "      <td>US</td>\n",
       "    </tr>\n",
       "    <tr>\n",
       "      <th>4</th>\n",
       "      <td>Ford Torino</td>\n",
       "      <td>17.0</td>\n",
       "      <td>8</td>\n",
       "      <td>302.0</td>\n",
       "      <td>140.0</td>\n",
       "      <td>3449.</td>\n",
       "      <td>10.5</td>\n",
       "      <td>70</td>\n",
       "      <td>US</td>\n",
       "    </tr>\n",
       "  </tbody>\n",
       "</table>\n",
       "</div>"
      ],
      "text/plain": [
       "                         Car   MPG Cylinders Displacement Horsepower Weight  \\\n",
       "0  Chevrolet Chevelle Malibu   NaN         8        307.0      130.0  3504.   \n",
       "1          Buick Skylark 320  15.0         8        350.0        NaN  3693.   \n",
       "2         Plymouth Satellite   NaN         8        318.0      150.0  3436.   \n",
       "3              AMC Rebel SST  16.0         8          NaN      150.0    NaN   \n",
       "4                Ford Torino  17.0         8        302.0      140.0  3449.   \n",
       "\n",
       "  Acceleration Model Origin  \n",
       "0         12.0    70     US  \n",
       "1         11.5    70     US  \n",
       "2         11.0    70     US  \n",
       "3         12.0    70     US  \n",
       "4         10.5    70     US  "
      ]
     },
     "execution_count": 54,
     "metadata": {},
     "output_type": "execute_result"
    }
   ],
   "source": [
    "df_cars.head()"
   ]
  },
  {
   "cell_type": "code",
   "execution_count": 55,
   "metadata": {},
   "outputs": [
    {
     "data": {
      "image/png": "[encoded data removed]",
      "text/plain": [
       "<Figure size 800x500 with 1 Axes>"
      ]
     },
     "metadata": {},
     "output_type": "display_data"
    }
   ],
   "source": [
    "# Convert MPG to numeric\n",
    "df_cars['MPG'] = pd.to_numeric(df_cars['MPG'], errors='coerce')\n",
    "\n",
    "# Plot histogram\n",
    "plt.figure(figsize=(8, 5))\n",
    "plt.hist(df_cars['MPG'].dropna(), bins=20, edgecolor='black')\n",
    "plt.title('Distribution of MPG')\n",
    "plt.xlabel('MPG')\n",
    "plt.ylabel('Frequency')\n",
    "plt.show()"
   ]
  },
  {
   "cell_type": "markdown",
   "metadata": {},
   "source": [
    "The distribution is approximately normal, so we impute `MPG` missing values with the mean."
   ]
  },
  {
   "cell_type": "code",
   "execution_count": 56,
   "metadata": {},
   "outputs": [
    {
     "name": "stdout",
     "output_type": "stream",
     "text": [
      "Mean MPG: 23.10\n",
      "Missing Values in MPG: 0\n"
     ]
    }
   ],
   "source": [
    "# Calculate mean\n",
    "mpg_mean = df_cars['MPG'].mean()\n",
    "print(f\"Mean MPG: {mpg_mean:.2f}\")\n",
    "\n",
    "# Impute missing values\n",
    "df_cars['MPG'] = df_cars['MPG'].fillna(mpg_mean)\n",
    "\n",
    "# Verify\n",
    "print(\"Missing Values in MPG:\", df_cars['MPG'].isnull().sum())"
   ]
  },
  {
   "cell_type": "markdown",
   "metadata": {},
   "source": [
    "### Step 6: Use SimpleImputer\n",
    "\n",
    "We apply `SimpleImputer` to all numerical columns for systematic imputation."
   ]
  },
  {
   "cell_type": "code",
   "execution_count": 57,
   "metadata": {},
   "outputs": [
    {
     "name": "stdout",
     "output_type": "stream",
     "text": [
      "Missing Values after Imputation:\n",
      "MPG    0\n",
      "dtype: int64\n"
     ]
    }
   ],
   "source": [
    "# Select numerical columns\n",
    "numerical_cols = df_cars.select_dtypes(include=['float64', 'int64']).columns\n",
    "\n",
    "# Initialize imputer\n",
    "imputer = SimpleImputer(strategy='mean')\n",
    "\n",
    "# Fit and transform\n",
    "df_cars[numerical_cols] = imputer.fit_transform(df_cars[numerical_cols])\n",
    "\n",
    "# Verify\n",
    "print(\"Missing Values after Imputation:\")\n",
    "print(df_cars[numerical_cols].isnull().sum())"
   ]
  },
  {
   "cell_type": "markdown",
   "metadata": {},
   "source": [
    "## Outlier Detection - Sales Minimized Dataset\n",
    "\n",
    "Outliers are data points that significantly deviate from the norm, often due to errors or exceptional events. In this section, we analyze the `salesMinimized.csv` dataset, which tracks daily sales of hobby items at a store (`CA_1`) over 70 days. We aim to identify items with unusually high sales using:\n",
    "\n",
    "1. **Visualization**: Box plots and scatter plots to visually detect outliers.\n",
    "2. **Z-Score**: Identify items with total sales beyond ±3 standard deviations.\n",
    "3. **Inter-Quartile Range (IQR)**: Detect items with sales outside Q1 - 1.5*IQR or Q3 + 1.5*IQR.\n",
    "\n",
    "### Step 1: Load the Dataset\n",
    "\n",
    "We load the dataset and inspect its structure."
   ]
  },
  {
   "cell_type": "code",
   "execution_count": 58,
   "metadata": {},
   "outputs": [
    {
     "name": "stdout",
     "output_type": "stream",
     "text": [
      "First few rows of the dataset:\n",
      "+----+--------------+-------------------------------+---------------+-----------+----------+------------+------------+-------+-------+-------+-------+-------+-------+-------+-------+-------+--------+--------+--------+--------+--------+--------+--------+--------+--------+--------+--------+--------+--------+--------+--------+--------+--------+--------+--------+--------+--------+--------+--------+--------+--------+--------+--------+--------+--------+--------+--------+--------+--------+--------+--------+--------+--------+--------+--------+--------+--------+--------+--------+--------+--------+--------+--------+--------+--------+--------+--------+--------+--------+--------+--------+--------+--------+--------+--------+--------+--------+\n",
      "|    |   Unnamed: 0 | id                            | item_id       | dept_id   | cat_id   | store_id   | state_id   |   d_1 |   d_2 |   d_3 |   d_4 |   d_5 |   d_6 |   d_7 |   d_8 |   d_9 |   d_10 |   d_11 |   d_12 |   d_13 |   d_14 |   d_15 |   d_16 |   d_17 |   d_18 |   d_19 |   d_20 |   d_21 |   d_22 |   d_23 |   d_24 |   d_25 |   d_26 |   d_27 |   d_28 |   d_29 |   d_30 |   d_31 |   d_32 |   d_33 |   d_34 |   d_35 |   d_36 |   d_37 |   d_38 |   d_39 |   d_40 |   d_41 |   d_42 |   d_43 |   d_44 |   d_45 |   d_46 |   d_47 |   d_48 |   d_49 |   d_50 |   d_51 |   d_52 |   d_53 |   d_54 |   d_55 |   d_56 |   d_57 |   d_58 |   d_59 |   d_60 |   d_61 |   d_62 |   d_63 |   d_64 |   d_65 |   d_66 |   d_67 |   d_68 |   d_69 |   d_70 |\n",
      "+====+==============+===============================+===============+===========+==========+============+============+=======+=======+=======+=======+=======+=======+=======+=======+=======+========+========+========+========+========+========+========+========+========+========+========+========+========+========+========+========+========+========+========+========+========+========+========+========+========+========+========+========+========+========+========+========+========+========+========+========+========+========+========+========+========+========+========+========+========+========+========+========+========+========+========+========+========+========+========+========+========+========+========+========+========+\n",
      "|  0 |            0 | HOBBIES_1_001_CA_1_validation | HOBBIES_1_001 | HOBBIES_1 | HOBBIES  | CA_1       | CA         |     0 |     0 |     0 |     0 |     0 |     0 |     0 |     0 |     0 |      0 |      0 |      0 |      0 |      0 |      0 |      0 |      0 |      0 |      0 |      0 |      0 |      0 |      0 |      0 |      0 |      0 |      0 |      0 |      0 |      0 |      0 |      0 |      0 |      0 |      0 |      0 |      0 |      0 |      0 |      0 |      0 |      0 |      0 |      0 |      0 |      0 |      0 |      0 |      0 |      0 |      0 |      0 |      0 |      0 |      0 |      0 |      0 |      0 |      0 |      0 |      0 |      0 |      0 |      0 |      0 |      0 |      0 |      0 |      0 |      0 |\n",
      "+----+--------------+-------------------------------+---------------+-----------+----------+------------+------------+-------+-------+-------+-------+-------+-------+-------+-------+-------+--------+--------+--------+--------+--------+--------+--------+--------+--------+--------+--------+--------+--------+--------+--------+--------+--------+--------+--------+--------+--------+--------+--------+--------+--------+--------+--------+--------+--------+--------+--------+--------+--------+--------+--------+--------+--------+--------+--------+--------+--------+--------+--------+--------+--------+--------+--------+--------+--------+--------+--------+--------+--------+--------+--------+--------+--------+--------+--------+--------+--------+\n",
      "|  1 |            1 | HOBBIES_1_002_CA_1_validation | HOBBIES_1_002 | HOBBIES_1 | HOBBIES  | CA_1       | CA         |     0 |     0 |     0 |     0 |     0 |     0 |     0 |     0 |     0 |      0 |      0 |      0 |      0 |      0 |      0 |      0 |      0 |      0 |      0 |      0 |      0 |      0 |      0 |      0 |      0 |      0 |      0 |      0 |      0 |      0 |      0 |      0 |      0 |      0 |      0 |      0 |      0 |      0 |      0 |      0 |      0 |      0 |      0 |      0 |      0 |      0 |      0 |      0 |      0 |      0 |      0 |      0 |      0 |      0 |      0 |      0 |      0 |      0 |      0 |      0 |      0 |      0 |      0 |      0 |      0 |      0 |      0 |      0 |      0 |      0 |\n",
      "+----+--------------+-------------------------------+---------------+-----------+----------+------------+------------+-------+-------+-------+-------+-------+-------+-------+-------+-------+--------+--------+--------+--------+--------+--------+--------+--------+--------+--------+--------+--------+--------+--------+--------+--------+--------+--------+--------+--------+--------+--------+--------+--------+--------+--------+--------+--------+--------+--------+--------+--------+--------+--------+--------+--------+--------+--------+--------+--------+--------+--------+--------+--------+--------+--------+--------+--------+--------+--------+--------+--------+--------+--------+--------+--------+--------+--------+--------+--------+--------+\n",
      "|  2 |            2 | HOBBIES_1_003_CA_1_validation | HOBBIES_1_003 | HOBBIES_1 | HOBBIES  | CA_1       | CA         |     0 |     0 |     0 |     0 |     0 |     0 |     0 |     0 |     0 |      0 |      0 |      0 |      0 |      0 |      0 |      0 |      0 |      0 |      0 |      0 |      0 |      0 |      0 |      0 |      0 |      0 |      0 |      0 |      0 |      0 |      0 |      0 |      0 |      0 |      0 |      0 |      0 |      0 |      0 |      0 |      0 |      0 |      0 |      0 |      0 |      0 |      0 |      0 |      0 |      0 |      0 |      0 |      0 |      0 |      0 |      0 |      0 |      0 |      0 |      0 |      0 |      0 |      0 |      0 |      0 |      0 |      0 |      0 |      0 |      0 |\n",
      "+----+--------------+-------------------------------+---------------+-----------+----------+------------+------------+-------+-------+-------+-------+-------+-------+-------+-------+-------+--------+--------+--------+--------+--------+--------+--------+--------+--------+--------+--------+--------+--------+--------+--------+--------+--------+--------+--------+--------+--------+--------+--------+--------+--------+--------+--------+--------+--------+--------+--------+--------+--------+--------+--------+--------+--------+--------+--------+--------+--------+--------+--------+--------+--------+--------+--------+--------+--------+--------+--------+--------+--------+--------+--------+--------+--------+--------+--------+--------+--------+\n",
      "|  3 |            3 | HOBBIES_1_004_CA_1_validation | HOBBIES_1_004 | HOBBIES_1 | HOBBIES  | CA_1       | CA         |     0 |     0 |     0 |     0 |     0 |     0 |     0 |     0 |     0 |      0 |      0 |      0 |      0 |      0 |      0 |      0 |      0 |      0 |      0 |      0 |      0 |      0 |      0 |      0 |      0 |      0 |      0 |      0 |      0 |      0 |      0 |      0 |      0 |      0 |      0 |      0 |      2 |      0 |      0 |      0 |      2 |      0 |      1 |      0 |      0 |      0 |      0 |      0 |      0 |      2 |      0 |      1 |      0 |      0 |      1 |      1 |      1 |      0 |      2 |      3 |      1 |      0 |      0 |      0 |      0 |      0 |      1 |      0 |      0 |      1 |\n",
      "+----+--------------+-------------------------------+---------------+-----------+----------+------------+------------+-------+-------+-------+-------+-------+-------+-------+-------+-------+--------+--------+--------+--------+--------+--------+--------+--------+--------+--------+--------+--------+--------+--------+--------+--------+--------+--------+--------+--------+--------+--------+--------+--------+--------+--------+--------+--------+--------+--------+--------+--------+--------+--------+--------+--------+--------+--------+--------+--------+--------+--------+--------+--------+--------+--------+--------+--------+--------+--------+--------+--------+--------+--------+--------+--------+--------+--------+--------+--------+--------+\n",
      "|  4 |            4 | HOBBIES_1_005_CA_1_validation | HOBBIES_1_005 | HOBBIES_1 | HOBBIES  | CA_1       | CA         |     0 |     0 |     0 |     0 |     0 |     0 |     0 |     0 |     0 |      0 |      0 |      0 |      0 |      0 |      0 |      0 |      0 |      0 |      0 |      0 |      0 |      0 |      0 |      0 |      0 |      0 |      0 |      0 |      0 |      0 |      0 |      0 |      0 |      0 |      0 |      0 |      0 |      0 |      0 |      0 |      0 |      0 |      0 |      0 |      0 |      0 |      0 |      0 |      0 |      0 |      0 |      0 |      0 |      0 |      0 |      0 |      0 |      0 |      0 |      0 |      0 |      0 |      0 |      0 |      0 |      0 |      0 |      0 |      0 |      0 |\n",
      "+----+--------------+-------------------------------+---------------+-----------+----------+------------+------------+-------+-------+-------+-------+-------+-------+-------+-------+-------+--------+--------+--------+--------+--------+--------+--------+--------+--------+--------+--------+--------+--------+--------+--------+--------+--------+--------+--------+--------+--------+--------+--------+--------+--------+--------+--------+--------+--------+--------+--------+--------+--------+--------+--------+--------+--------+--------+--------+--------+--------+--------+--------+--------+--------+--------+--------+--------+--------+--------+--------+--------+--------+--------+--------+--------+--------+--------+--------+--------+--------+\n"
     ]
    }
   ],
   "source": [
    "# Load the sales minimized dataset\n",
    "df_sales = pd.read_csv('./CSVs/salesMinimized.csv')\n",
    "\n",
    "# Display the first few rows\n",
    "print(\"First few rows of the dataset:\")\n",
    "print(tabulate(df_sales.head(), headers='keys', tablefmt='grid'))"
   ]
  },
  {
   "cell_type": "markdown",
   "metadata": {},
   "source": [
    "### Step 2: Compute Total Sales\n",
    "\n",
    "The dataset contains daily sales (`d_1` to `d_70`) for each item, which are sparse (many zeros). To detect outliers, we compute `Total_Sales` per item by summing sales across all days. High `Total_Sales` values may indicate outlier items (e.g., due to promotions or errors)."
   ]
  },
  {
   "cell_type": "code",
   "execution_count": 59,
   "metadata": {},
   "outputs": [
    {
     "data": {
      "text/html": [
       "<pre style=\"white-space:pre;overflow-x:auto;line-height:normal;font-family:Menlo,'DejaVu Sans Mono',consolas,'Courier New',monospace\"><span style=\"font-style: italic\">       Dataset with Total_Sales column        </span>\n",
       "┏━━━━━━━━━━━━━━┳━━━━━━━━━━━━━━━┳━━━━━━━━━━━━━┓\n",
       "┃<span style=\"color: #800080; text-decoration-color: #800080; font-weight: bold\"> Index        </span>┃<span style=\"color: #800080; text-decoration-color: #800080; font-weight: bold\"> Item ID       </span>┃<span style=\"color: #800080; text-decoration-color: #800080; font-weight: bold\"> Total Sales </span>┃\n",
       "┡━━━━━━━━━━━━━━╇━━━━━━━━━━━━━━━╇━━━━━━━━━━━━━┩\n",
       "│<span style=\"color: #7f7f7f; text-decoration-color: #7f7f7f\"> 0            </span>│ HOBBIES_1_001 │           0 │\n",
       "│<span style=\"color: #7f7f7f; text-decoration-color: #7f7f7f\"> 1            </span>│ HOBBIES_1_002 │           0 │\n",
       "│<span style=\"color: #7f7f7f; text-decoration-color: #7f7f7f\"> 2            </span>│ HOBBIES_1_003 │           0 │\n",
       "│<span style=\"color: #7f7f7f; text-decoration-color: #7f7f7f\"> 3            </span>│ HOBBIES_1_004 │          19 │\n",
       "│<span style=\"color: #7f7f7f; text-decoration-color: #7f7f7f\"> 4            </span>│ HOBBIES_1_005 │           0 │\n",
       "└──────────────┴───────────────┴─────────────┘\n",
       "</pre>\n"
      ],
      "text/plain": [
       "\u001b[3m       Dataset with Total_Sales column        \u001b[0m\n",
       "┏━━━━━━━━━━━━━━┳━━━━━━━━━━━━━━━┳━━━━━━━━━━━━━┓\n",
       "┃\u001b[1;35m \u001b[0m\u001b[1;35mIndex       \u001b[0m\u001b[1;35m \u001b[0m┃\u001b[1;35m \u001b[0m\u001b[1;35mItem ID      \u001b[0m\u001b[1;35m \u001b[0m┃\u001b[1;35m \u001b[0m\u001b[1;35mTotal Sales\u001b[0m\u001b[1;35m \u001b[0m┃\n",
       "┡━━━━━━━━━━━━━━╇━━━━━━━━━━━━━━━╇━━━━━━━━━━━━━┩\n",
       "│\u001b[2m \u001b[0m\u001b[2m0           \u001b[0m\u001b[2m \u001b[0m│ HOBBIES_1_001 │           0 │\n",
       "│\u001b[2m \u001b[0m\u001b[2m1           \u001b[0m\u001b[2m \u001b[0m│ HOBBIES_1_002 │           0 │\n",
       "│\u001b[2m \u001b[0m\u001b[2m2           \u001b[0m\u001b[2m \u001b[0m│ HOBBIES_1_003 │           0 │\n",
       "│\u001b[2m \u001b[0m\u001b[2m3           \u001b[0m\u001b[2m \u001b[0m│ HOBBIES_1_004 │          19 │\n",
       "│\u001b[2m \u001b[0m\u001b[2m4           \u001b[0m\u001b[2m \u001b[0m│ HOBBIES_1_005 │           0 │\n",
       "└──────────────┴───────────────┴─────────────┘\n"
      ]
     },
     "metadata": {},
     "output_type": "display_data"
    }
   ],
   "source": [
    "# Sum sales across days (d_1 to d_70)\n",
    "sales_cols = [col for col in df_sales.columns if col.startswith('d_')]\n",
    "df_sales['Total_Sales'] = df_sales[sales_cols].sum(axis=1)\n",
    "\n",
    "# Display the dataset with total sales\n",
    "console = Console()\n",
    "table = Table(title=\"Dataset with Total_Sales column\", show_header=True, header_style=\"bold magenta\")\n",
    "table.add_column(\"Index\", style=\"dim\", width=12)\n",
    "table.add_column(\"Item ID\", justify=\"left\")\n",
    "table.add_column(\"Total Sales\", justify=\"right\")\n",
    "\n",
    "for idx, row in df_sales[['item_id', 'Total_Sales']].head().iterrows():\n",
    "    table.add_row(str(idx), str(row['item_id']), str(row['Total_Sales']))\n",
    "\n",
    "console.print(table)"
   ]
  },
  {
   "cell_type": "markdown",
   "metadata": {},
   "source": [
    "### Step 3: Box Plot Visualization\n",
    "\n",
    "A box plot visualizes the distribution of `Total_Sales`, showing quartiles and potential outliers (points beyond the whiskers). Outliers are items with exceptionally high sales."
   ]
  },
  {
   "cell_type": "code",
   "execution_count": 60,
   "metadata": {},
   "outputs": [
    {
     "data": {
      "image/png": "[encoded data removed]",
      "text/plain": [
       "<Figure size 800x500 with 1 Axes>"
      ]
     },
     "metadata": {},
     "output_type": "display_data"
    }
   ],
   "source": [
    "# Box plot for Total_Sales\n",
    "plt.figure(figsize=(8, 5))\n",
    "plt.boxplot(df_sales['Total_Sales'].dropna(), vert=False)\n",
    "plt.title('Box Plot of Total Sales per Item')\n",
    "plt.xlabel('Total Sales')\n",
    "plt.show()"
   ]
  },
  {
   "cell_type": "markdown",
   "metadata": {},
   "source": [
    "### Step 4: Scatter Plot Visualization\n",
    "\n",
    "A scatter plot of `Total_Sales` against item indices helps identify items with extreme sales values, providing context for outliers in relation to other items."
   ]
  },
  {
   "cell_type": "code",
   "execution_count": 61,
   "metadata": {},
   "outputs": [
    {
     "data": {
      "image/png": "[encoded data removed]",
      "text/plain": [
       "<Figure size 800x500 with 1 Axes>"
      ]
     },
     "metadata": {},
     "output_type": "display_data"
    }
   ],
   "source": [
    "# Scatter plot\n",
    "plt.figure(figsize=(8, 5))\n",
    "plt.scatter(range(len(df_sales)), df_sales['Total_Sales'], alpha=0.5)\n",
    "plt.title('Scatter Plot of Total Sales per Item')\n",
    "plt.xlabel('Item Index')\n",
    "plt.ylabel('Total Sales')\n",
    "plt.show()"
   ]
  },
  {
   "cell_type": "markdown",
   "metadata": {},
   "source": [
    "### Step 5: Z-Score Method\n",
    "\n",
    "The Z-Score measures how many standard deviations a data point is from the mean. We consider items with |Z-Score| > 3 for `Total_Sales` as outliers, indicating unusually high sales."
   ]
  },
  {
   "cell_type": "code",
   "execution_count": 62,
   "metadata": {},
   "outputs": [
    {
     "name": "stdout",
     "output_type": "stream",
     "text": [
      "\n",
      "Outliers based on Z-Score:\n",
      "+------+-----------------+---------------+----------------------+\n",
      "|      | item_id         |   Total_Sales |   Total_Sales_ZScore |\n",
      "+======+=================+===============+======================+\n",
      "|   15 | HOBBIES_1_016   |           411 |              3.26415 |\n",
      "+------+-----------------+---------------+----------------------+\n",
      "|   31 | HOBBIES_1_032   |           694 |              5.78512 |\n",
      "+------+-----------------+---------------+----------------------+\n",
      "|   65 | HOBBIES_1_067   |           743 |              6.22161 |\n",
      "+------+-----------------+---------------+----------------------+\n",
      "|   98 | HOBBIES_1_103   |           540 |              4.41328 |\n",
      "+------+-----------------+---------------+----------------------+\n",
      "|  164 | HOBBIES_1_169   |           781 |              6.56012 |\n",
      "+------+-----------------+---------------+----------------------+\n",
      "|  173 | HOBBIES_1_178   |           749 |              6.27506 |\n",
      "+------+-----------------+---------------+----------------------+\n",
      "|  183 | HOBBIES_1_189   |           471 |              3.79863 |\n",
      "+------+-----------------+---------------+----------------------+\n",
      "|  236 | HOBBIES_1_244   |           589 |              4.84978 |\n",
      "+------+-----------------+---------------+----------------------+\n",
      "|  246 | HOBBIES_1_254   |           536 |              4.37765 |\n",
      "+------+-----------------+---------------+----------------------+\n",
      "|  248 | HOBBIES_1_256   |           790 |              6.64029 |\n",
      "+------+-----------------+---------------+----------------------+\n",
      "|  260 | HOBBIES_1_268   |          1355 |             11.6733  |\n",
      "+------+-----------------+---------------+----------------------+\n",
      "|  270 | HOBBIES_1_278   |          1195 |             10.248   |\n",
      "+------+-----------------+---------------+----------------------+\n",
      "|  280 | HOBBIES_1_288   |           453 |              3.63829 |\n",
      "+------+-----------------+---------------+----------------------+\n",
      "|  286 | HOBBIES_1_295   |          1265 |             10.8716  |\n",
      "+------+-----------------+---------------+----------------------+\n",
      "|  303 | HOBBIES_1_312   |           480 |              3.8788  |\n",
      "+------+-----------------+---------------+----------------------+\n",
      "|  332 | HOBBIES_1_341   |          1298 |             11.1656  |\n",
      "+------+-----------------+---------------+----------------------+\n",
      "|  361 | HOBBIES_1_370   |           737 |              6.16817 |\n",
      "+------+-----------------+---------------+----------------------+\n",
      "|  362 | HOBBIES_1_371   |           890 |              7.53109 |\n",
      "+------+-----------------+---------------+----------------------+\n",
      "|  372 | HOBBIES_1_381   |           432 |              3.45122 |\n",
      "+------+-----------------+---------------+----------------------+\n",
      "|  389 | HOBBIES_1_398   |           664 |              5.51788 |\n",
      "+------+-----------------+---------------+----------------------+\n",
      "|  408 | HOBBIES_1_417   |           538 |              4.39547 |\n",
      "+------+-----------------+---------------+----------------------+\n",
      "|  678 | HOUSEHOLD_1_118 |           489 |              3.95897 |\n",
      "+------+-----------------+---------------+----------------------+\n",
      "|  751 | HOUSEHOLD_1_191 |           525 |              4.27966 |\n",
      "+------+-----------------+---------------+----------------------+\n",
      "|  794 | HOUSEHOLD_1_234 |           398 |              3.14834 |\n",
      "+------+-----------------+---------------+----------------------+\n",
      "|  930 | HOUSEHOLD_1_373 |           436 |              3.48685 |\n",
      "+------+-----------------+---------------+----------------------+\n",
      "| 1090 | HOUSEHOLD_1_535 |           848 |              7.15696 |\n",
      "+------+-----------------+---------------+----------------------+\n",
      "| 1628 | FOODS_1_018     |           400 |              3.16616 |\n",
      "+------+-----------------+---------------+----------------------+\n",
      "| 1629 | FOODS_1_019     |           535 |              4.36874 |\n",
      "+------+-----------------+---------------+----------------------+\n",
      "| 1642 | FOODS_1_032     |          1249 |             10.7291  |\n",
      "+------+-----------------+---------------+----------------------+\n",
      "| 1654 | FOODS_1_044     |           528 |              4.30639 |\n",
      "+------+-----------------+---------------+----------------------+\n",
      "| 1695 | FOODS_1_085     |           956 |              8.11902 |\n",
      "+------+-----------------+---------------+----------------------+\n",
      "| 1846 | FOODS_2_019     |           956 |              8.11902 |\n",
      "+------+-----------------+---------------+----------------------+\n",
      "| 1848 | FOODS_2_021     |           980 |              8.33282 |\n",
      "+------+-----------------+---------------+----------------------+\n"
     ]
    }
   ],
   "source": [
    "# Calculate Z-Scores\n",
    "df_sales['Total_Sales_ZScore'] = (df_sales['Total_Sales'] - df_sales['Total_Sales'].mean()) / df_sales['Total_Sales'].std()\n",
    "\n",
    "# Identify outliers\n",
    "outliers_zscore = df_sales[abs(df_sales['Total_Sales_ZScore']) > 3]\n",
    "print(\"\\nOutliers based on Z-Score:\")\n",
    "print(tabulate(outliers_zscore[['item_id', 'Total_Sales', 'Total_Sales_ZScore']], headers='keys', tablefmt='grid'))"
   ]
  },
  {
   "cell_type": "markdown",
   "metadata": {},
   "source": [
    "### Step 6: IQR Method\n",
    "\n",
    "The IQR method identifies outliers as items with `Total_Sales` below Q1 - 1.5*IQR or above Q3 + 1.5*IQR. This is effective for sparse data, where many items have zero or low sales."
   ]
  },
  {
   "cell_type": "code",
   "execution_count": 63,
   "metadata": {},
   "outputs": [
    {
     "name": "stdout",
     "output_type": "stream",
     "text": [
      "\n",
      "Outliers based on IQR:\n",
      "+------+-----------------+---------------+\n",
      "|      | item_id         |   Total_Sales |\n",
      "+======+=================+===============+\n",
      "|    7 | HOBBIES_1_008   |           193 |\n",
      "+------+-----------------+---------------+\n",
      "|    8 | HOBBIES_1_009   |           141 |\n",
      "+------+-----------------+---------------+\n",
      "|   14 | HOBBIES_1_015   |           339 |\n",
      "+------+-----------------+---------------+\n",
      "|   15 | HOBBIES_1_016   |           411 |\n",
      "+------+-----------------+---------------+\n",
      "|   31 | HOBBIES_1_032   |           694 |\n",
      "+------+-----------------+---------------+\n",
      "|   42 | HOBBIES_1_043   |           194 |\n",
      "+------+-----------------+---------------+\n",
      "|   43 | HOBBIES_1_044   |           145 |\n",
      "+------+-----------------+---------------+\n",
      "|   46 | HOBBIES_1_047   |           179 |\n",
      "+------+-----------------+---------------+\n",
      "|   65 | HOBBIES_1_067   |           743 |\n",
      "+------+-----------------+---------------+\n",
      "|   75 | HOBBIES_1_078   |           121 |\n",
      "+------+-----------------+---------------+\n",
      "|   77 | HOBBIES_1_080   |           246 |\n",
      "+------+-----------------+---------------+\n",
      "|   81 | HOBBIES_1_084   |           111 |\n",
      "+------+-----------------+---------------+\n",
      "|   86 | HOBBIES_1_089   |           253 |\n",
      "+------+-----------------+---------------+\n",
      "|   95 | HOBBIES_1_099   |           160 |\n",
      "+------+-----------------+---------------+\n",
      "|   96 | HOBBIES_1_100   |           112 |\n",
      "+------+-----------------+---------------+\n",
      "|   98 | HOBBIES_1_103   |           540 |\n",
      "+------+-----------------+---------------+\n",
      "|  103 | HOBBIES_1_108   |           170 |\n",
      "+------+-----------------+---------------+\n",
      "|  127 | HOBBIES_1_132   |           121 |\n",
      "+------+-----------------+---------------+\n",
      "|  136 | HOBBIES_1_141   |           119 |\n",
      "+------+-----------------+---------------+\n",
      "|  145 | HOBBIES_1_150   |           150 |\n",
      "+------+-----------------+---------------+\n",
      "|  164 | HOBBIES_1_169   |           781 |\n",
      "+------+-----------------+---------------+\n",
      "|  173 | HOBBIES_1_178   |           749 |\n",
      "+------+-----------------+---------------+\n",
      "|  183 | HOBBIES_1_189   |           471 |\n",
      "+------+-----------------+---------------+\n",
      "|  188 | HOBBIES_1_194   |           238 |\n",
      "+------+-----------------+---------------+\n",
      "|  195 | HOBBIES_1_202   |           168 |\n",
      "+------+-----------------+---------------+\n",
      "|  202 | HOBBIES_1_209   |           308 |\n",
      "+------+-----------------+---------------+\n",
      "|  209 | HOBBIES_1_216   |           150 |\n",
      "+------+-----------------+---------------+\n",
      "|  225 | HOBBIES_1_233   |           354 |\n",
      "+------+-----------------+---------------+\n",
      "|  228 | HOBBIES_1_236   |           242 |\n",
      "+------+-----------------+---------------+\n",
      "|  234 | HOBBIES_1_242   |           299 |\n",
      "+------+-----------------+---------------+\n",
      "|  236 | HOBBIES_1_244   |           589 |\n",
      "+------+-----------------+---------------+\n",
      "|  246 | HOBBIES_1_254   |           536 |\n",
      "+------+-----------------+---------------+\n",
      "|  248 | HOBBIES_1_256   |           790 |\n",
      "+------+-----------------+---------------+\n",
      "|  253 | HOBBIES_1_261   |           179 |\n",
      "+------+-----------------+---------------+\n",
      "|  260 | HOBBIES_1_268   |          1355 |\n",
      "+------+-----------------+---------------+\n",
      "|  270 | HOBBIES_1_278   |          1195 |\n",
      "+------+-----------------+---------------+\n",
      "|  278 | HOBBIES_1_286   |           271 |\n",
      "+------+-----------------+---------------+\n",
      "|  280 | HOBBIES_1_288   |           453 |\n",
      "+------+-----------------+---------------+\n",
      "|  286 | HOBBIES_1_295   |          1265 |\n",
      "+------+-----------------+---------------+\n",
      "|  289 | HOBBIES_1_298   |           165 |\n",
      "+------+-----------------+---------------+\n",
      "|  303 | HOBBIES_1_312   |           480 |\n",
      "+------+-----------------+---------------+\n",
      "|  310 | HOBBIES_1_319   |           248 |\n",
      "+------+-----------------+---------------+\n",
      "|  314 | HOBBIES_1_323   |           131 |\n",
      "+------+-----------------+---------------+\n",
      "|  321 | HOBBIES_1_330   |           134 |\n",
      "+------+-----------------+---------------+\n",
      "|  328 | HOBBIES_1_337   |           335 |\n",
      "+------+-----------------+---------------+\n",
      "|  329 | HOBBIES_1_338   |           113 |\n",
      "+------+-----------------+---------------+\n",
      "|  332 | HOBBIES_1_341   |          1298 |\n",
      "+------+-----------------+---------------+\n",
      "|  336 | HOBBIES_1_345   |           204 |\n",
      "+------+-----------------+---------------+\n",
      "|  339 | HOBBIES_1_348   |           353 |\n",
      "+------+-----------------+---------------+\n",
      "|  348 | HOBBIES_1_357   |           111 |\n",
      "+------+-----------------+---------------+\n",
      "|  355 | HOBBIES_1_364   |           139 |\n",
      "+------+-----------------+---------------+\n",
      "|  361 | HOBBIES_1_370   |           737 |\n",
      "+------+-----------------+---------------+\n",
      "|  362 | HOBBIES_1_371   |           890 |\n",
      "+------+-----------------+---------------+\n",
      "|  370 | HOBBIES_1_379   |           127 |\n",
      "+------+-----------------+---------------+\n",
      "|  371 | HOBBIES_1_380   |           143 |\n",
      "+------+-----------------+---------------+\n",
      "|  372 | HOBBIES_1_381   |           432 |\n",
      "+------+-----------------+---------------+\n",
      "|  389 | HOBBIES_1_398   |           664 |\n",
      "+------+-----------------+---------------+\n",
      "|  391 | HOBBIES_1_400   |           144 |\n",
      "+------+-----------------+---------------+\n",
      "|  399 | HOBBIES_1_408   |           191 |\n",
      "+------+-----------------+---------------+\n",
      "|  406 | HOBBIES_1_415   |           133 |\n",
      "+------+-----------------+---------------+\n",
      "|  408 | HOBBIES_1_417   |           538 |\n",
      "+------+-----------------+---------------+\n",
      "|  415 | HOBBIES_1_424   |           114 |\n",
      "+------+-----------------+---------------+\n",
      "|  557 | HOBBIES_2_142   |           112 |\n",
      "+------+-----------------+---------------+\n",
      "|  580 | HOUSEHOLD_1_016 |           149 |\n",
      "+------+-----------------+---------------+\n",
      "|  591 | HOUSEHOLD_1_027 |           284 |\n",
      "+------+-----------------+---------------+\n",
      "|  596 | HOUSEHOLD_1_033 |           197 |\n",
      "+------+-----------------+---------------+\n",
      "|  601 | HOUSEHOLD_1_038 |           170 |\n",
      "+------+-----------------+---------------+\n",
      "|  607 | HOUSEHOLD_1_045 |           134 |\n",
      "+------+-----------------+---------------+\n",
      "|  610 | HOUSEHOLD_1_048 |           249 |\n",
      "+------+-----------------+---------------+\n",
      "|  615 | HOUSEHOLD_1_053 |           172 |\n",
      "+------+-----------------+---------------+\n",
      "|  617 | HOUSEHOLD_1_055 |           167 |\n",
      "+------+-----------------+---------------+\n",
      "|  621 | HOUSEHOLD_1_059 |           111 |\n",
      "+------+-----------------+---------------+\n",
      "|  645 | HOUSEHOLD_1_083 |           227 |\n",
      "+------+-----------------+---------------+\n",
      "|  647 | HOUSEHOLD_1_086 |           128 |\n",
      "+------+-----------------+---------------+\n",
      "|  648 | HOUSEHOLD_1_087 |           191 |\n",
      "+------+-----------------+---------------+\n",
      "|  652 | HOUSEHOLD_1_091 |           125 |\n",
      "+------+-----------------+---------------+\n",
      "|  670 | HOUSEHOLD_1_109 |           182 |\n",
      "+------+-----------------+---------------+\n",
      "|  674 | HOUSEHOLD_1_114 |           186 |\n",
      "+------+-----------------+---------------+\n",
      "|  678 | HOUSEHOLD_1_118 |           489 |\n",
      "+------+-----------------+---------------+\n",
      "|  696 | HOUSEHOLD_1_136 |           182 |\n",
      "+------+-----------------+---------------+\n",
      "|  705 | HOUSEHOLD_1_145 |           201 |\n",
      "+------+-----------------+---------------+\n",
      "|  706 | HOUSEHOLD_1_146 |           114 |\n",
      "+------+-----------------+---------------+\n",
      "|  707 | HOUSEHOLD_1_147 |           161 |\n",
      "+------+-----------------+---------------+\n",
      "|  709 | HOUSEHOLD_1_149 |           128 |\n",
      "+------+-----------------+---------------+\n",
      "|  722 | HOUSEHOLD_1_162 |           164 |\n",
      "+------+-----------------+---------------+\n",
      "|  737 | HOUSEHOLD_1_177 |           247 |\n",
      "+------+-----------------+---------------+\n",
      "|  739 | HOUSEHOLD_1_179 |           149 |\n",
      "+------+-----------------+---------------+\n",
      "|  744 | HOUSEHOLD_1_184 |           111 |\n",
      "+------+-----------------+---------------+\n",
      "|  751 | HOUSEHOLD_1_191 |           525 |\n",
      "+------+-----------------+---------------+\n",
      "|  756 | HOUSEHOLD_1_196 |           317 |\n",
      "+------+-----------------+---------------+\n",
      "|  757 | HOUSEHOLD_1_197 |           130 |\n",
      "+------+-----------------+---------------+\n",
      "|  758 | HOUSEHOLD_1_198 |           128 |\n",
      "+------+-----------------+---------------+\n",
      "|  794 | HOUSEHOLD_1_234 |           398 |\n",
      "+------+-----------------+---------------+\n",
      "|  802 | HOUSEHOLD_1_243 |           292 |\n",
      "+------+-----------------+---------------+\n",
      "|  810 | HOUSEHOLD_1_251 |           287 |\n",
      "+------+-----------------+---------------+\n",
      "|  852 | HOUSEHOLD_1_294 |           228 |\n",
      "+------+-----------------+---------------+\n",
      "|  861 | HOUSEHOLD_1_303 |           180 |\n",
      "+------+-----------------+---------------+\n",
      "|  885 | HOUSEHOLD_1_327 |           206 |\n",
      "+------+-----------------+---------------+\n",
      "|  901 | HOUSEHOLD_1_343 |           114 |\n",
      "+------+-----------------+---------------+\n",
      "|  903 | HOUSEHOLD_1_345 |           156 |\n",
      "+------+-----------------+---------------+\n",
      "|  908 | HOUSEHOLD_1_350 |           182 |\n",
      "+------+-----------------+---------------+\n",
      "|  914 | HOUSEHOLD_1_357 |           158 |\n",
      "+------+-----------------+---------------+\n",
      "|  927 | HOUSEHOLD_1_370 |           130 |\n",
      "+------+-----------------+---------------+\n",
      "|  929 | HOUSEHOLD_1_372 |           153 |\n",
      "+------+-----------------+---------------+\n",
      "|  930 | HOUSEHOLD_1_373 |           436 |\n",
      "+------+-----------------+---------------+\n",
      "|  936 | HOUSEHOLD_1_379 |           162 |\n",
      "+------+-----------------+---------------+\n",
      "|  938 | HOUSEHOLD_1_381 |           122 |\n",
      "+------+-----------------+---------------+\n",
      "|  946 | HOUSEHOLD_1_389 |           150 |\n",
      "+------+-----------------+---------------+\n",
      "|  963 | HOUSEHOLD_1_408 |           136 |\n",
      "+------+-----------------+---------------+\n",
      "|  965 | HOUSEHOLD_1_410 |           205 |\n",
      "+------+-----------------+---------------+\n",
      "|  980 | HOUSEHOLD_1_425 |           149 |\n",
      "+------+-----------------+---------------+\n",
      "|  989 | HOUSEHOLD_1_434 |           289 |\n",
      "+------+-----------------+---------------+\n",
      "|  991 | HOUSEHOLD_1_436 |           186 |\n",
      "+------+-----------------+---------------+\n",
      "|  992 | HOUSEHOLD_1_437 |           149 |\n",
      "+------+-----------------+---------------+\n",
      "|  994 | HOUSEHOLD_1_439 |           169 |\n",
      "+------+-----------------+---------------+\n",
      "|  995 | HOUSEHOLD_1_440 |           153 |\n",
      "+------+-----------------+---------------+\n",
      "| 1015 | HOUSEHOLD_1_460 |           208 |\n",
      "+------+-----------------+---------------+\n",
      "| 1023 | HOUSEHOLD_1_468 |           124 |\n",
      "+------+-----------------+---------------+\n",
      "| 1029 | HOUSEHOLD_1_474 |           234 |\n",
      "+------+-----------------+---------------+\n",
      "| 1033 | HOUSEHOLD_1_478 |           150 |\n",
      "+------+-----------------+---------------+\n",
      "| 1037 | HOUSEHOLD_1_482 |           270 |\n",
      "+------+-----------------+---------------+\n",
      "| 1045 | HOUSEHOLD_1_490 |           142 |\n",
      "+------+-----------------+---------------+\n",
      "| 1049 | HOUSEHOLD_1_494 |           111 |\n",
      "+------+-----------------+---------------+\n",
      "| 1053 | HOUSEHOLD_1_498 |           157 |\n",
      "+------+-----------------+---------------+\n",
      "| 1071 | HOUSEHOLD_1_516 |           255 |\n",
      "+------+-----------------+---------------+\n",
      "| 1076 | HOUSEHOLD_1_521 |           136 |\n",
      "+------+-----------------+---------------+\n",
      "| 1077 | HOUSEHOLD_1_522 |           190 |\n",
      "+------+-----------------+---------------+\n",
      "| 1090 | HOUSEHOLD_1_535 |           848 |\n",
      "+------+-----------------+---------------+\n",
      "| 1096 | HOUSEHOLD_1_541 |           238 |\n",
      "+------+-----------------+---------------+\n",
      "| 1170 | HOUSEHOLD_2_074 |           116 |\n",
      "+------+-----------------+---------------+\n",
      "| 1224 | HOUSEHOLD_2_128 |           155 |\n",
      "+------+-----------------+---------------+\n",
      "| 1272 | HOUSEHOLD_2_176 |           183 |\n",
      "+------+-----------------+---------------+\n",
      "| 1317 | HOUSEHOLD_2_222 |           112 |\n",
      "+------+-----------------+---------------+\n",
      "| 1394 | HOUSEHOLD_2_299 |           150 |\n",
      "+------+-----------------+---------------+\n",
      "| 1443 | HOUSEHOLD_2_348 |           113 |\n",
      "+------+-----------------+---------------+\n",
      "| 1466 | HOUSEHOLD_2_371 |           198 |\n",
      "+------+-----------------+---------------+\n",
      "| 1516 | HOUSEHOLD_2_421 |           140 |\n",
      "+------+-----------------+---------------+\n",
      "| 1535 | HOUSEHOLD_2_440 |           149 |\n",
      "+------+-----------------+---------------+\n",
      "| 1606 | HOUSEHOLD_2_511 |           158 |\n",
      "+------+-----------------+---------------+\n",
      "| 1616 | FOODS_1_005     |           151 |\n",
      "+------+-----------------+---------------+\n",
      "| 1617 | FOODS_1_006     |           203 |\n",
      "+------+-----------------+---------------+\n",
      "| 1623 | FOODS_1_013     |           126 |\n",
      "+------+-----------------+---------------+\n",
      "| 1628 | FOODS_1_018     |           400 |\n",
      "+------+-----------------+---------------+\n",
      "| 1629 | FOODS_1_019     |           535 |\n",
      "+------+-----------------+---------------+\n",
      "| 1634 | FOODS_1_024     |           148 |\n",
      "+------+-----------------+---------------+\n",
      "| 1642 | FOODS_1_032     |          1249 |\n",
      "+------+-----------------+---------------+\n",
      "| 1646 | FOODS_1_036     |           252 |\n",
      "+------+-----------------+---------------+\n",
      "| 1647 | FOODS_1_037     |           122 |\n",
      "+------+-----------------+---------------+\n",
      "| 1650 | FOODS_1_040     |           128 |\n",
      "+------+-----------------+---------------+\n",
      "| 1654 | FOODS_1_044     |           528 |\n",
      "+------+-----------------+---------------+\n",
      "| 1656 | FOODS_1_046     |           196 |\n",
      "+------+-----------------+---------------+\n",
      "| 1657 | FOODS_1_047     |           150 |\n",
      "+------+-----------------+---------------+\n",
      "| 1664 | FOODS_1_054     |           146 |\n",
      "+------+-----------------+---------------+\n",
      "| 1665 | FOODS_1_055     |           303 |\n",
      "+------+-----------------+---------------+\n",
      "| 1674 | FOODS_1_064     |           211 |\n",
      "+------+-----------------+---------------+\n",
      "| 1676 | FOODS_1_066     |           120 |\n",
      "+------+-----------------+---------------+\n",
      "| 1677 | FOODS_1_067     |           299 |\n",
      "+------+-----------------+---------------+\n",
      "| 1683 | FOODS_1_073     |           175 |\n",
      "+------+-----------------+---------------+\n",
      "| 1693 | FOODS_1_083     |           121 |\n",
      "+------+-----------------+---------------+\n",
      "| 1695 | FOODS_1_085     |           956 |\n",
      "+------+-----------------+---------------+\n",
      "| 1698 | FOODS_1_088     |           188 |\n",
      "+------+-----------------+---------------+\n",
      "| 1712 | FOODS_1_103     |           199 |\n",
      "+------+-----------------+---------------+\n",
      "| 1713 | FOODS_1_104     |           149 |\n",
      "+------+-----------------+---------------+\n",
      "| 1715 | FOODS_1_106     |           151 |\n",
      "+------+-----------------+---------------+\n",
      "| 1721 | FOODS_1_112     |           174 |\n",
      "+------+-----------------+---------------+\n",
      "| 1723 | FOODS_1_114     |           137 |\n",
      "+------+-----------------+---------------+\n",
      "| 1732 | FOODS_1_123     |           180 |\n",
      "+------+-----------------+---------------+\n",
      "| 1736 | FOODS_1_127     |           173 |\n",
      "+------+-----------------+---------------+\n",
      "| 1742 | FOODS_1_133     |           240 |\n",
      "+------+-----------------+---------------+\n",
      "| 1746 | FOODS_1_137     |           300 |\n",
      "+------+-----------------+---------------+\n",
      "| 1752 | FOODS_1_143     |           111 |\n",
      "+------+-----------------+---------------+\n",
      "| 1759 | FOODS_1_150     |           127 |\n",
      "+------+-----------------+---------------+\n",
      "| 1762 | FOODS_1_153     |           119 |\n",
      "+------+-----------------+---------------+\n",
      "| 1763 | FOODS_1_154     |           155 |\n",
      "+------+-----------------+---------------+\n",
      "| 1774 | FOODS_1_166     |           298 |\n",
      "+------+-----------------+---------------+\n",
      "| 1775 | FOODS_1_167     |           124 |\n",
      "+------+-----------------+---------------+\n",
      "| 1780 | FOODS_1_172     |           193 |\n",
      "+------+-----------------+---------------+\n",
      "| 1781 | FOODS_1_173     |           298 |\n",
      "+------+-----------------+---------------+\n",
      "| 1782 | FOODS_1_174     |           116 |\n",
      "+------+-----------------+---------------+\n",
      "| 1791 | FOODS_1_183     |           154 |\n",
      "+------+-----------------+---------------+\n",
      "| 1800 | FOODS_1_192     |           117 |\n",
      "+------+-----------------+---------------+\n",
      "| 1802 | FOODS_1_194     |           337 |\n",
      "+------+-----------------+---------------+\n",
      "| 1805 | FOODS_1_197     |           146 |\n",
      "+------+-----------------+---------------+\n",
      "| 1809 | FOODS_1_201     |           222 |\n",
      "+------+-----------------+---------------+\n",
      "| 1814 | FOODS_1_206     |           221 |\n",
      "+------+-----------------+---------------+\n",
      "| 1825 | FOODS_1_217     |           270 |\n",
      "+------+-----------------+---------------+\n",
      "| 1826 | FOODS_1_218     |           198 |\n",
      "+------+-----------------+---------------+\n",
      "| 1827 | FOODS_1_219     |           266 |\n",
      "+------+-----------------+---------------+\n",
      "| 1830 | FOODS_2_003     |           130 |\n",
      "+------+-----------------+---------------+\n",
      "| 1836 | FOODS_2_009     |           138 |\n",
      "+------+-----------------+---------------+\n",
      "| 1837 | FOODS_2_010     |           121 |\n",
      "+------+-----------------+---------------+\n",
      "| 1840 | FOODS_2_013     |           342 |\n",
      "+------+-----------------+---------------+\n",
      "| 1841 | FOODS_2_014     |           249 |\n",
      "+------+-----------------+---------------+\n",
      "| 1846 | FOODS_2_019     |           956 |\n",
      "+------+-----------------+---------------+\n",
      "| 1848 | FOODS_2_021     |           980 |\n",
      "+------+-----------------+---------------+\n",
      "| 1851 | FOODS_2_024     |           192 |\n",
      "+------+-----------------+---------------+\n",
      "| 1853 | FOODS_2_026     |           121 |\n",
      "+------+-----------------+---------------+\n",
      "| 1856 | FOODS_2_029     |           371 |\n",
      "+------+-----------------+---------------+\n",
      "| 1857 | FOODS_2_030     |           192 |\n",
      "+------+-----------------+---------------+\n",
      "| 1863 | FOODS_2_036     |           186 |\n",
      "+------+-----------------+---------------+\n",
      "| 1869 | FOODS_2_042     |           122 |\n",
      "+------+-----------------+---------------+\n",
      "| 1874 | FOODS_2_047     |           255 |\n",
      "+------+-----------------+---------------+\n",
      "| 1878 | FOODS_2_051     |           114 |\n",
      "+------+-----------------+---------------+\n",
      "| 1879 | FOODS_2_052     |           270 |\n",
      "+------+-----------------+---------------+\n",
      "| 1881 | FOODS_2_054     |           325 |\n",
      "+------+-----------------+---------------+\n",
      "| 1883 | FOODS_2_056     |           170 |\n",
      "+------+-----------------+---------------+\n",
      "| 1887 | FOODS_2_060     |           218 |\n",
      "+------+-----------------+---------------+\n",
      "| 1888 | FOODS_2_061     |           175 |\n",
      "+------+-----------------+---------------+\n",
      "| 1889 | FOODS_2_062     |           116 |\n",
      "+------+-----------------+---------------+\n",
      "| 1890 | FOODS_2_063     |           256 |\n",
      "+------+-----------------+---------------+\n",
      "| 1894 | FOODS_2_067     |           131 |\n",
      "+------+-----------------+---------------+\n",
      "| 1908 | FOODS_2_081     |           171 |\n",
      "+------+-----------------+---------------+\n",
      "| 1909 | FOODS_2_082     |           122 |\n",
      "+------+-----------------+---------------+\n",
      "| 1910 | FOODS_2_083     |           114 |\n",
      "+------+-----------------+---------------+\n",
      "| 1927 | FOODS_2_101     |           131 |\n",
      "+------+-----------------+---------------+\n",
      "| 1930 | FOODS_2_104     |           195 |\n",
      "+------+-----------------+---------------+\n",
      "| 1933 | FOODS_2_107     |           156 |\n",
      "+------+-----------------+---------------+\n",
      "| 1942 | FOODS_2_116     |           336 |\n",
      "+------+-----------------+---------------+\n",
      "| 1960 | FOODS_2_134     |           116 |\n",
      "+------+-----------------+---------------+\n",
      "| 1961 | FOODS_2_135     |           121 |\n",
      "+------+-----------------+---------------+\n",
      "| 1964 | FOODS_2_138     |           177 |\n",
      "+------+-----------------+---------------+\n",
      "| 1965 | FOODS_2_139     |           276 |\n",
      "+------+-----------------+---------------+\n",
      "| 1972 | FOODS_2_146     |           253 |\n",
      "+------+-----------------+---------------+\n",
      "| 1976 | FOODS_2_150     |           283 |\n",
      "+------+-----------------+---------------+\n",
      "| 1979 | FOODS_2_153     |           291 |\n",
      "+------+-----------------+---------------+\n",
      "| 1982 | FOODS_2_156     |           139 |\n",
      "+------+-----------------+---------------+\n",
      "| 1990 | FOODS_2_164     |           207 |\n",
      "+------+-----------------+---------------+\n",
      "| 1992 | FOODS_2_166     |           146 |\n",
      "+------+-----------------+---------------+\n",
      "| 1997 | FOODS_2_171     |           126 |\n",
      "+------+-----------------+---------------+\n",
      "\n",
      "Shape after removing IQR outliers: (1771, 79)\n"
     ]
    }
   ],
   "source": [
    "# Calculate IQR\n",
    "Q1 = df_sales['Total_Sales'].quantile(0.25)\n",
    "Q3 = df_sales['Total_Sales'].quantile(0.75)\n",
    "IQR = Q3 - Q1\n",
    "\n",
    "# Define bounds\n",
    "lower_bound = Q1 - 1.5 * IQR\n",
    "upper_bound = Q3 + 1.5 * IQR\n",
    "\n",
    "# Identify outliers\n",
    "outliers_iqr = df_sales[(df_sales['Total_Sales'] < lower_bound) | (df_sales['Total_Sales'] > upper_bound)]\n",
    "print(\"\\nOutliers based on IQR:\")\n",
    "print(tabulate(outliers_iqr[['item_id', 'Total_Sales']], headers='keys', tablefmt='grid'))\n",
    "\n",
    "# Remove outliers\n",
    "df_sales_clean = df_sales[(df_sales['Total_Sales'] >= lower_bound) & (df_sales['Total_Sales'] <= upper_bound)]\n",
    "print(f\"\\nShape after removing IQR outliers: {df_sales_clean.shape}\")"
   ]
  }
 ],
 "metadata": {
  "kernelspec": {
   "display_name": "env",
   "language": "python",
   "name": "python3"
  },
  "language_info": {
   "codemirror_mode": {
    "name": "ipython",
    "version": 3
   },
   "file_extension": ".py",
   "mimetype": "text/x-python",
   "name": "python",
   "nbconvert_exporter": "python",
   "pygments_lexer": "ipython3",
   "version": "3.13.3"
  },
  "orig_nbformat": 4
 },
 "nbformat": 4,
 "nbformat_minor": 2
}
